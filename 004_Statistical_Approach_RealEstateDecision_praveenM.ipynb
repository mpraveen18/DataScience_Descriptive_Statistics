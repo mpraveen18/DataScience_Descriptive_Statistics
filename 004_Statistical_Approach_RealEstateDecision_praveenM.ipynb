{
 "cells": [
  {
   "cell_type": "markdown",
   "metadata": {},
   "source": [
    "##### Data = 'Ames_Housing_Subset.csv'\n",
    "##### Data Attributes Discription = 'Ames_Housing_Subset_Feature_Description.txt' or 'IndustryProblem_Attribute.txt'"
   ]
  },
  {
   "cell_type": "markdown",
   "metadata": {},
   "source": [
    "--------------------------"
   ]
  },
  {
   "cell_type": "markdown",
   "metadata": {},
   "source": [
    "# Business Problem Case (Scenario)\n",
    "\n",
    "Suppose you are working as a data analyst in a certain company. A real estate investor hires you for a task. He wants to buy and sell some properties in Ames, Iowa, US. But these are in different neighbourhoods and varying conditions.\n",
    "\n",
    "You need to finalise some neighbourhoods where the investor can do business. As a data analyst, you should do this by keeping the following three points in mind:\n",
    "\n",
    "1) Neighbourhoods that have houses with larger areas for low prices\n",
    "    \n",
    "2) Neighbourhoods that have houses with better quality for low prices\n",
    "    \n",
    "3) Neighbourhoods that variations in prices are relatively low"
   ]
  },
  {
   "cell_type": "markdown",
   "metadata": {},
   "source": [
    "-------------------------"
   ]
  },
  {
   "cell_type": "markdown",
   "metadata": {},
   "source": [
    "# Tasks to be performed\n",
    "\n",
    "Task 1 - Load and study the data\n",
    "\n",
    "Task 2 - Proposed Solution Algorithm\n",
    "\n",
    "Task 3 - View the distributions of the various features in the data set and also compute Descriptive Statistics\n",
    "\n",
    "Task 4 - Subsetting the dataframe to meet the Business requirements\n",
    "\n",
    "Task 5 - Creating a new data frame \"nbd\" (neighbourhood) to store the representative values for each neighbourhood\n",
    "\n",
    "Task 6 - Sorting the resulting summary of the neighbourhoods based on the price per area and recommend the top three neighbourhoods.\n",
    "\n",
    "Task 7 - Project Summary"
   ]
  },
  {
   "cell_type": "markdown",
   "metadata": {},
   "source": [
    "------------------------"
   ]
  },
  {
   "cell_type": "markdown",
   "metadata": {},
   "source": [
    "# Task 1 - Load and study the data"
   ]
  },
  {
   "cell_type": "code",
   "execution_count": 115,
   "metadata": {},
   "outputs": [],
   "source": [
    "# Loading \"numpy\" and \"pandas\" for manipulating numbers, vectors and data frames\n",
    "# Loading \"matplotlib.pyplot\" and \"seaborn\" for data visualisation\n",
    "import numpy as np\n",
    "import pandas as pd\n",
    "import matplotlib.pyplot as plt\n",
    "import seaborn as sns"
   ]
  },
  {
   "cell_type": "code",
   "execution_count": 116,
   "metadata": {},
   "outputs": [],
   "source": [
    "# Reading in the \"Ames_Housing_Subset.csv\" file as a Pandas Data Frame\n",
    "df = pd.read_csv('Ames_Housing_Subset.csv', index_col = 0)"
   ]
  },
  {
   "cell_type": "code",
   "execution_count": 117,
   "metadata": {},
   "outputs": [
    {
     "data": {
      "text/html": [
       "<div>\n",
       "<style scoped>\n",
       "    .dataframe tbody tr th:only-of-type {\n",
       "        vertical-align: middle;\n",
       "    }\n",
       "\n",
       "    .dataframe tbody tr th {\n",
       "        vertical-align: top;\n",
       "    }\n",
       "\n",
       "    .dataframe thead th {\n",
       "        text-align: right;\n",
       "    }\n",
       "</style>\n",
       "<table border=\"1\" class=\"dataframe\">\n",
       "  <thead>\n",
       "    <tr style=\"text-align: right;\">\n",
       "      <th></th>\n",
       "      <th>Neighborhood</th>\n",
       "      <th>Year Built</th>\n",
       "      <th>Overall Qual</th>\n",
       "      <th>Kitchen Qual</th>\n",
       "      <th>Exter Qual</th>\n",
       "      <th>Lot Area</th>\n",
       "      <th>SalePrice</th>\n",
       "    </tr>\n",
       "    <tr>\n",
       "      <th>PID</th>\n",
       "      <th></th>\n",
       "      <th></th>\n",
       "      <th></th>\n",
       "      <th></th>\n",
       "      <th></th>\n",
       "      <th></th>\n",
       "      <th></th>\n",
       "    </tr>\n",
       "  </thead>\n",
       "  <tbody>\n",
       "    <tr>\n",
       "      <th>526301100</th>\n",
       "      <td>NAmes</td>\n",
       "      <td>1960</td>\n",
       "      <td>6</td>\n",
       "      <td>TA</td>\n",
       "      <td>TA</td>\n",
       "      <td>31770</td>\n",
       "      <td>215000</td>\n",
       "    </tr>\n",
       "    <tr>\n",
       "      <th>526350040</th>\n",
       "      <td>NAmes</td>\n",
       "      <td>1961</td>\n",
       "      <td>5</td>\n",
       "      <td>TA</td>\n",
       "      <td>TA</td>\n",
       "      <td>11622</td>\n",
       "      <td>105000</td>\n",
       "    </tr>\n",
       "    <tr>\n",
       "      <th>526351010</th>\n",
       "      <td>NAmes</td>\n",
       "      <td>1958</td>\n",
       "      <td>6</td>\n",
       "      <td>Gd</td>\n",
       "      <td>TA</td>\n",
       "      <td>14267</td>\n",
       "      <td>172000</td>\n",
       "    </tr>\n",
       "    <tr>\n",
       "      <th>526353030</th>\n",
       "      <td>NAmes</td>\n",
       "      <td>1968</td>\n",
       "      <td>7</td>\n",
       "      <td>Ex</td>\n",
       "      <td>Gd</td>\n",
       "      <td>11160</td>\n",
       "      <td>244000</td>\n",
       "    </tr>\n",
       "    <tr>\n",
       "      <th>527105010</th>\n",
       "      <td>Gilbert</td>\n",
       "      <td>1997</td>\n",
       "      <td>5</td>\n",
       "      <td>TA</td>\n",
       "      <td>TA</td>\n",
       "      <td>13830</td>\n",
       "      <td>189900</td>\n",
       "    </tr>\n",
       "  </tbody>\n",
       "</table>\n",
       "</div>"
      ],
      "text/plain": [
       "          Neighborhood  Year Built  Overall Qual Kitchen Qual Exter Qual  \\\n",
       "PID                                                                        \n",
       "526301100        NAmes        1960             6           TA         TA   \n",
       "526350040        NAmes        1961             5           TA         TA   \n",
       "526351010        NAmes        1958             6           Gd         TA   \n",
       "526353030        NAmes        1968             7           Ex         Gd   \n",
       "527105010      Gilbert        1997             5           TA         TA   \n",
       "\n",
       "           Lot Area  SalePrice  \n",
       "PID                             \n",
       "526301100     31770     215000  \n",
       "526350040     11622     105000  \n",
       "526351010     14267     172000  \n",
       "526353030     11160     244000  \n",
       "527105010     13830     189900  "
      ]
     },
     "execution_count": 117,
     "metadata": {},
     "output_type": "execute_result"
    }
   ],
   "source": [
    "# Taking a brief look at the data using \".head()\"\n",
    "df.head()"
   ]
  },
  {
   "cell_type": "code",
   "execution_count": 118,
   "metadata": {},
   "outputs": [
    {
     "name": "stdout",
     "output_type": "stream",
     "text": [
      "PID: Property ID of the house\n",
      "\n",
      "Neighborhood: Physical locations within Ames city limits\n",
      "\n",
      "       Blmngtn\tBloomington Heights\n",
      "       Blueste\tBluestem\n",
      "       BrDale\tBriardale\n",
      "       BrkSide\tBrookside\n",
      "       ClearCr\tClear Creek\n",
      "       CollgCr\tCollege Creek\n",
      "       Crawfor\tCrawford\n",
      "       Edwards\tEdwards\n",
      "       Gilbert\tGilbert\n",
      "       IDOTRR\tIowa DOT and Rail Road\n",
      "       MeadowV\tMeadow Village\n",
      "       Mitchel\tMitchell\n",
      "       Names\tNorth Ames\n",
      "       NoRidge\tNorthridge\n",
      "       NPkVill\tNorthpark Villa\n",
      "       NridgHt\tNorthridge Heights\n",
      "       NWAmes\tNorthwest Ames\n",
      "       OldTown\tOld Town\n",
      "       SWISU\tSouth & West of Iowa State University\n",
      "       Sawyer\tSawyer\n",
      "       SawyerW\tSawyer West\n",
      "       Somerst\tSomerset\n",
      "       StoneBr\tStone Brook\n",
      "       Timber\tTimberland\n",
      "       Veenker\tVeenker\n",
      "\n",
      "Year Built: Original construction date\n",
      "\n",
      "Overall Qual: Rates the overall material and finish of the house\n",
      "\n",
      "       10\tVery Excellent\n",
      "       9\tExcellent\n",
      "       8\tVery Good\n",
      "       7\tGood\n",
      "       6\tAbove Average\n",
      "       5\tAverage\n",
      "       4\tBelow Average\n",
      "       3\tFair\n",
      "       2\tPoor\n",
      "       1\tVery Poor\n",
      "\n",
      "Kitchen Qual: Quality of the kitchen\n",
      "\n",
      "       Ex\tExcellent\n",
      "       Gd\tGood\n",
      "       TA\tTypical/Average\n",
      "       Fa\tFair\n",
      "       Po\tPoor\n",
      "\n",
      "Exter Qual: Quality of exterior material of the house\n",
      "\t\t\n",
      "       Ex\tExcellent\n",
      "       Gd\tGood\n",
      "       TA\tAverage/Typical\n",
      "       Fa\tFair\n",
      "       Po\tPoor\n",
      "\n",
      "LotArea: Lot size in square feet\n",
      "\n",
      "SalePrice: Selling price of the propery in dollars\n"
     ]
    }
   ],
   "source": [
    "# Studying the description of the data\n",
    "with open('IndustryProblem_Attribute.txt', 'r') as f:\n",
    "    print(f.read())"
   ]
  },
  {
   "cell_type": "markdown",
   "metadata": {},
   "source": [
    "# Overview of the data\n",
    "\n",
    "In the data set, 2,930 unique properties are listed.\n",
    "\n",
    "Each property has seven features (excluding the index) that give more information about the property:\n",
    "\n",
    "\n",
    "1) ‘PID’: This is the property ID, which is a unique identifier for the property or the house. Note that we are using this feature as the row index labels.\n",
    "    \n",
    "\n",
    "2) ‘Neighborhood’: This is the neighbourhood in which the property exists. This is the primary information that needs to be given to the investor after conducting the analysis. Note that there are many localities in Ames such as Bloomington Heights, Bluestem and Briardale. But those localities are renamed with a shortcut for easy handling.\n",
    "    \n",
    "\n",
    "3) ‘Year Built’: This is the year in which the property was built. This feature might help us figure out which constructions are relatively new.\n",
    "    \n",
    "\n",
    "4) ‘Overall Qual’: This is the overall quality of the construction, which is recorded as a whole number on a scale of 1–10. We should consider those houses with good overall quality.\n",
    "    \n",
    "\n",
    "5) ‘Kitchen Qual’: This is the quality of the kitchen in the house, which is recorded as ‘TA’ (Typical/Average), ‘Fa’ (Fair), ‘Gd’ (Good), ‘Ex’ (Excellent) and ‘Po’ (Poor). We should probably consider houses whose kitchen quality is typical, good or excellent.\n",
    "    \n",
    "\n",
    "6) ‘Exter Qual’: This is the quality of the exterior material used in the house and is recorded as ‘TA’ (Typical/Average), ‘Fa’ (Fair), ‘Gd’ (Good), ‘Ex’ (Excellent) and ‘Po’ (Poor). We should probably consider houses whose exterior material quality is typical, good or excellent.\n",
    "    \n",
    "\n",
    "7) ‘Lot Area’: This is the area of the property in square feet. This is one of the most important features, as this will help us ascertain which houses have a good value for money in terms of space.\n",
    "    \n",
    "\n",
    "8) ‘SalePrice’: This is the selling price of the house in dollars. This will be the main feature that will be used to quantify the investor’s profits."
   ]
  },
  {
   "cell_type": "code",
   "execution_count": 119,
   "metadata": {},
   "outputs": [
    {
     "data": {
      "text/plain": [
       "(2930, 7)"
      ]
     },
     "execution_count": 119,
     "metadata": {},
     "output_type": "execute_result"
    }
   ],
   "source": [
    "# Getting the dimensions of the data frame using \".shape\"\n",
    "df.shape"
   ]
  },
  {
   "cell_type": "code",
   "execution_count": 120,
   "metadata": {},
   "outputs": [
    {
     "data": {
      "text/plain": [
       "Int64Index([526301100, 526350040, 526351010, 526353030, 527105010, 527105030,\n",
       "            527127150, 527145080, 527146030, 527162130,\n",
       "            ...\n",
       "            923228310, 923229110, 923230040, 923250060, 923251180, 923275080,\n",
       "            923276100, 923400125, 924100070, 924151050],\n",
       "           dtype='int64', name='PID', length=2930)"
      ]
     },
     "execution_count": 120,
     "metadata": {},
     "output_type": "execute_result"
    }
   ],
   "source": [
    "# Getting the row names of the data frame using \".index\"\n",
    "df.index"
   ]
  },
  {
   "cell_type": "code",
   "execution_count": 121,
   "metadata": {},
   "outputs": [
    {
     "data": {
      "text/plain": [
       "Index(['Neighborhood', 'Year Built', 'Overall Qual', 'Kitchen Qual',\n",
       "       'Exter Qual', 'Lot Area', 'SalePrice'],\n",
       "      dtype='object')"
      ]
     },
     "execution_count": 121,
     "metadata": {},
     "output_type": "execute_result"
    }
   ],
   "source": [
    "# Getting the column names of the data frame using \".columns\"\n",
    "df.columns"
   ]
  },
  {
   "cell_type": "code",
   "execution_count": 122,
   "metadata": {},
   "outputs": [
    {
     "name": "stdout",
     "output_type": "stream",
     "text": [
      "<class 'pandas.core.frame.DataFrame'>\n",
      "Int64Index: 2930 entries, 526301100 to 924151050\n",
      "Data columns (total 7 columns):\n",
      " #   Column        Non-Null Count  Dtype \n",
      "---  ------        --------------  ----- \n",
      " 0   Neighborhood  2930 non-null   object\n",
      " 1   Year Built    2930 non-null   int64 \n",
      " 2   Overall Qual  2930 non-null   int64 \n",
      " 3   Kitchen Qual  2930 non-null   object\n",
      " 4   Exter Qual    2930 non-null   object\n",
      " 5   Lot Area      2930 non-null   int64 \n",
      " 6   SalePrice     2930 non-null   int64 \n",
      "dtypes: int64(4), object(3)\n",
      "memory usage: 183.1+ KB\n"
     ]
    }
   ],
   "source": [
    "# Looking at the basic information about the data frame using \".info()\"\n",
    "df.info()"
   ]
  },
  {
   "cell_type": "markdown",
   "metadata": {},
   "source": [
    "--------------------------"
   ]
  },
  {
   "cell_type": "code",
   "execution_count": 123,
   "metadata": {},
   "outputs": [
    {
     "data": {
      "text/plain": [
       "0"
      ]
     },
     "execution_count": 123,
     "metadata": {},
     "output_type": "execute_result"
    }
   ],
   "source": [
    "# Getting the number of missing values for the complete data frame using \".isnull()\" and \".sum()\"\n",
    "df.isnull().sum().sum()"
   ]
  },
  {
   "cell_type": "markdown",
   "metadata": {},
   "source": [
    "---------------------------"
   ]
  },
  {
   "cell_type": "markdown",
   "metadata": {},
   "source": [
    "# Task 2 - Proposed Solution Algorithm\n",
    "\n",
    "1) Finding the median of the years in which the houses were built, so that we can focus on the houses which are relatively newer constructions.\n",
    "\n",
    "2) Engineer a new feature; the ratio of the selling price of the house to the lot area of the house for all houses in the data set and then we find the median of this feature.\n",
    "\n",
    "3) Finding the mode of the overall quality feature, so that we can choose those houses with higher overall quality ratings.\n",
    "\n",
    "4) Finding the modes of the kitchen and exterior material quality ratings so that we can choose the houses with good or excellent ratings for the same.\n",
    "\n",
    "5) Subsetting the data based on the required thresholds decided.\n",
    "\n",
    "6) Creating the new data frame; Grouping the houses by neighbourhood and we can caluclate the relevent summary/descriptive statistics for each of the features of the houses in those neighbourhoods.\n",
    "\n",
    "7) Result; sorting the resulting summary of the neighbourhoods based on the price per area and recommend the top three neighbourhoods."
   ]
  },
  {
   "cell_type": "markdown",
   "metadata": {},
   "source": [
    "# Objective\n",
    "\n",
    "To Get the top three neighbourhoods in which to invest based on \"Price per Area\" and \"Deviation in Price per Area\"\n",
    "\n",
    "To Consider neighbourhoods with \"Mean Price per Area\" less than 20 dollars per square feet\n",
    "\n",
    "To Consider neighbourhoods with \"Deviation in Price per Area\" less than 2 dollars per square feet"
   ]
  },
  {
   "cell_type": "markdown",
   "metadata": {},
   "source": [
    "------------------------"
   ]
  },
  {
   "cell_type": "markdown",
   "metadata": {},
   "source": [
    "# Task 3 - View the distributions of the various features in the data set and also compute Descriptive Statistics"
   ]
  },
  {
   "cell_type": "code",
   "execution_count": 124,
   "metadata": {},
   "outputs": [
    {
     "data": {
      "text/plain": [
       "Index(['Neighborhood', 'Year Built', 'Overall Qual', 'Kitchen Qual',\n",
       "       'Exter Qual', 'Lot Area', 'SalePrice'],\n",
       "      dtype='object')"
      ]
     },
     "execution_count": 124,
     "metadata": {},
     "output_type": "execute_result"
    }
   ],
   "source": [
    "# Getting the column names of the data frame using \".columns\"\n",
    "df.columns"
   ]
  },
  {
   "cell_type": "code",
   "execution_count": 125,
   "metadata": {},
   "outputs": [
    {
     "data": {
      "image/png": "[encoded data removed]",
      "text/plain": [
       "<Figure size 900x300 with 1 Axes>"
      ]
     },
     "metadata": {
      "needs_background": "light"
     },
     "output_type": "display_data"
    }
   ],
   "source": [
    "# Creating a count plot of the \"Neighborhood\" feature\n",
    "plt.figure(figsize = (9, 3), dpi= 100)\n",
    "sns.countplot(data = df, x = 'Neighborhood')\n",
    "plt.title('Count Plot of Number of Houses Based on Neighborhood')\n",
    "plt.xlabel('Neighborhood')\n",
    "plt.ylabel('Count')\n",
    "plt.xticks(rotation = 90);"
   ]
  },
  {
   "cell_type": "markdown",
   "metadata": {},
   "source": [
    "-------------------------------"
   ]
  },
  {
   "cell_type": "code",
   "execution_count": 126,
   "metadata": {},
   "outputs": [
    {
     "data": {
      "text/plain": [
       "Index(['Neighborhood', 'Year Built', 'Overall Qual', 'Kitchen Qual',\n",
       "       'Exter Qual', 'Lot Area', 'SalePrice'],\n",
       "      dtype='object')"
      ]
     },
     "execution_count": 126,
     "metadata": {},
     "output_type": "execute_result"
    }
   ],
   "source": [
    "# Getting the column names of the data frame using \".columns\"\n",
    "df.columns"
   ]
  },
  {
   "cell_type": "code",
   "execution_count": 127,
   "metadata": {},
   "outputs": [
    {
     "data": {
      "image/png": "[encoded data removed]",
      "text/plain": [
       "<Figure size 900x300 with 1 Axes>"
      ]
     },
     "metadata": {
      "needs_background": "light"
     },
     "output_type": "display_data"
    }
   ],
   "source": [
    "# Creating a histogram of the \"Year Built\" feature and also showing the mean and the median\n",
    "plt.figure(figsize = (9, 3), dpi= 100)\n",
    "sns.histplot(data = df, x = 'Year Built', color = 'orange', edgecolor = 'linen', alpha = 0.5)\n",
    "plt.title('Histogram of Years in Which Houses Were Built')\n",
    "plt.xlabel('Year in Which House was Built')\n",
    "plt.ylabel('Count')\n",
    "plt.vlines(x = df['Year Built'].mean(), ymin = 0, ymax = 575, colors = 'blue', label = 'Mean')\n",
    "plt.vlines(x = df['Year Built'].median(), ymin = 0, ymax = 575, colors = 'red', label = 'Median')\n",
    "plt.legend(loc = 'upper left');"
   ]
  },
  {
   "cell_type": "code",
   "execution_count": 128,
   "metadata": {},
   "outputs": [
    {
     "data": {
      "image/png": "[encoded data removed]",
      "text/plain": [
       "<Figure size 900x300 with 1 Axes>"
      ]
     },
     "metadata": {
      "needs_background": "light"
     },
     "output_type": "display_data"
    }
   ],
   "source": [
    "# Creating a box plot of the \"Year Built\" feature\n",
    "plt.figure(figsize = (9, 3), dpi= 100)\n",
    "sns.boxplot(data = df, x = 'Year Built', color = 'linen')\n",
    "plt.title('Box Plot of Year in Which Houses Were Built')\n",
    "plt.xlabel('Year in Which House was Built');"
   ]
  },
  {
   "cell_type": "markdown",
   "metadata": {},
   "source": [
    "---------------------------"
   ]
  },
  {
   "cell_type": "code",
   "execution_count": 129,
   "metadata": {},
   "outputs": [
    {
     "data": {
      "image/png": "[encoded data removed]",
      "text/plain": [
       "<Figure size 900x300 with 1 Axes>"
      ]
     },
     "metadata": {
      "needs_background": "light"
     },
     "output_type": "display_data"
    }
   ],
   "source": [
    "# Creating a histogram of the \"SalePrice\" feature and also showing the mean and the median\n",
    "plt.figure(figsize = (9, 3), dpi= 100)\n",
    "sns.histplot(data = df, x = 'SalePrice', color = 'orange', edgecolor = 'linen', alpha = 0.5)\n",
    "plt.title('Histogram of Selling Price of Houses')\n",
    "plt.xlabel('Selling Price of House in dollars')\n",
    "plt.ylabel('Count')\n",
    "plt.vlines(x = df['SalePrice'].mean(), ymin = 0, ymax = 325, colors = 'blue', label = 'Mean')\n",
    "plt.vlines(x = df['SalePrice'].median(), ymin = 0, ymax = 325, colors = 'red', label = 'Median')\n",
    "plt.legend();"
   ]
  },
  {
   "cell_type": "code",
   "execution_count": 130,
   "metadata": {},
   "outputs": [
    {
     "data": {
      "image/png": "[encoded data removed]",
      "text/plain": [
       "<Figure size 900x300 with 1 Axes>"
      ]
     },
     "metadata": {
      "needs_background": "light"
     },
     "output_type": "display_data"
    }
   ],
   "source": [
    "# Creating a box plot of the \"SalePrice\" feature\n",
    "plt.figure(figsize = (9, 3), dpi= 100)\n",
    "sns.boxplot(data = df, x = 'SalePrice', color = 'linen')\n",
    "plt.title('Box Plot of Selling Price of Houses')\n",
    "plt.xlabel('Selling Price of House in dollars');"
   ]
  },
  {
   "cell_type": "code",
   "execution_count": 131,
   "metadata": {},
   "outputs": [
    {
     "data": {
      "image/png": "[encoded data removed]",
      "text/plain": [
       "<Figure size 900x300 with 1 Axes>"
      ]
     },
     "metadata": {
      "needs_background": "light"
     },
     "output_type": "display_data"
    }
   ],
   "source": [
    "# Creating a histogram of the \"Lot Area\" feature and also showing the mean and the median\n",
    "plt.figure(figsize = (9, 3), dpi= 100)\n",
    "sns.histplot(data = df, x = 'Lot Area', color = 'orange', edgecolor = 'linen', alpha = 0.5)\n",
    "plt.title('Histogram of Lot Area of Houses')\n",
    "plt.xlabel('Lot Area of House in square feet')\n",
    "plt.ylabel('Count')\n",
    "plt.vlines(x = df['Lot Area'].mean(), ymin = 0, ymax = 250, colors = 'blue', label = 'Mean')\n",
    "plt.vlines(x = df['Lot Area'].median(), ymin = 0, ymax = 250, colors = 'red', label = 'Median')\n",
    "plt.legend();"
   ]
  },
  {
   "cell_type": "code",
   "execution_count": 132,
   "metadata": {},
   "outputs": [
    {
     "data": {
      "image/png": "[encoded data removed]",
      "text/plain": [
       "<Figure size 900x300 with 1 Axes>"
      ]
     },
     "metadata": {
      "needs_background": "light"
     },
     "output_type": "display_data"
    }
   ],
   "source": [
    "# Creating a box plot of the \"Lot Area\" feature\n",
    "plt.figure(figsize = (9, 3), dpi= 100)\n",
    "sns.boxplot(data = df, x = 'Lot Area', color = 'linen')\n",
    "plt.title('Box Plot of Lot Area of Houses')\n",
    "plt.xlabel('Lot Area of House in square feet');"
   ]
  },
  {
   "cell_type": "code",
   "execution_count": 133,
   "metadata": {},
   "outputs": [
    {
     "data": {
      "image/png": "[encoded data removed]",
      "text/plain": [
       "<Figure size 900x300 with 1 Axes>"
      ]
     },
     "metadata": {
      "needs_background": "light"
     },
     "output_type": "display_data"
    }
   ],
   "source": [
    "# Creating a scatter plot of the \"Lot Area\" and \"SalePrice\" features\n",
    "plt.figure(figsize = (9, 3), dpi= 100)\n",
    "sns.scatterplot(data = df, x = 'Lot Area', y = 'SalePrice', alpha = 0.5)\n",
    "plt.title('Scatter Plot of Selling Price of Houses With Respect to Lot Area')\n",
    "plt.xlabel('Lot Area of House in square feet')\n",
    "plt.ylabel('Selling Price of House in dollars');"
   ]
  },
  {
   "cell_type": "code",
   "execution_count": 134,
   "metadata": {},
   "outputs": [],
   "source": [
    "# Creating a new feature in the data frame to contain ratio of \"SalePrice\" and \"Lot Area\" features\n",
    "df['Price per Area'] = df['SalePrice']/df['Lot Area']"
   ]
  },
  {
   "cell_type": "code",
   "execution_count": 135,
   "metadata": {},
   "outputs": [
    {
     "data": {
      "text/html": [
       "<div>\n",
       "<style scoped>\n",
       "    .dataframe tbody tr th:only-of-type {\n",
       "        vertical-align: middle;\n",
       "    }\n",
       "\n",
       "    .dataframe tbody tr th {\n",
       "        vertical-align: top;\n",
       "    }\n",
       "\n",
       "    .dataframe thead th {\n",
       "        text-align: right;\n",
       "    }\n",
       "</style>\n",
       "<table border=\"1\" class=\"dataframe\">\n",
       "  <thead>\n",
       "    <tr style=\"text-align: right;\">\n",
       "      <th></th>\n",
       "      <th>Neighborhood</th>\n",
       "      <th>Year Built</th>\n",
       "      <th>Overall Qual</th>\n",
       "      <th>Kitchen Qual</th>\n",
       "      <th>Exter Qual</th>\n",
       "      <th>Lot Area</th>\n",
       "      <th>SalePrice</th>\n",
       "      <th>Price per Area</th>\n",
       "    </tr>\n",
       "    <tr>\n",
       "      <th>PID</th>\n",
       "      <th></th>\n",
       "      <th></th>\n",
       "      <th></th>\n",
       "      <th></th>\n",
       "      <th></th>\n",
       "      <th></th>\n",
       "      <th></th>\n",
       "      <th></th>\n",
       "    </tr>\n",
       "  </thead>\n",
       "  <tbody>\n",
       "    <tr>\n",
       "      <th>526301100</th>\n",
       "      <td>NAmes</td>\n",
       "      <td>1960</td>\n",
       "      <td>6</td>\n",
       "      <td>TA</td>\n",
       "      <td>TA</td>\n",
       "      <td>31770</td>\n",
       "      <td>215000</td>\n",
       "      <td>6.767391</td>\n",
       "    </tr>\n",
       "    <tr>\n",
       "      <th>526350040</th>\n",
       "      <td>NAmes</td>\n",
       "      <td>1961</td>\n",
       "      <td>5</td>\n",
       "      <td>TA</td>\n",
       "      <td>TA</td>\n",
       "      <td>11622</td>\n",
       "      <td>105000</td>\n",
       "      <td>9.034590</td>\n",
       "    </tr>\n",
       "    <tr>\n",
       "      <th>526351010</th>\n",
       "      <td>NAmes</td>\n",
       "      <td>1958</td>\n",
       "      <td>6</td>\n",
       "      <td>Gd</td>\n",
       "      <td>TA</td>\n",
       "      <td>14267</td>\n",
       "      <td>172000</td>\n",
       "      <td>12.055793</td>\n",
       "    </tr>\n",
       "    <tr>\n",
       "      <th>526353030</th>\n",
       "      <td>NAmes</td>\n",
       "      <td>1968</td>\n",
       "      <td>7</td>\n",
       "      <td>Ex</td>\n",
       "      <td>Gd</td>\n",
       "      <td>11160</td>\n",
       "      <td>244000</td>\n",
       "      <td>21.863799</td>\n",
       "    </tr>\n",
       "    <tr>\n",
       "      <th>527105010</th>\n",
       "      <td>Gilbert</td>\n",
       "      <td>1997</td>\n",
       "      <td>5</td>\n",
       "      <td>TA</td>\n",
       "      <td>TA</td>\n",
       "      <td>13830</td>\n",
       "      <td>189900</td>\n",
       "      <td>13.731020</td>\n",
       "    </tr>\n",
       "  </tbody>\n",
       "</table>\n",
       "</div>"
      ],
      "text/plain": [
       "          Neighborhood  Year Built  Overall Qual Kitchen Qual Exter Qual  \\\n",
       "PID                                                                        \n",
       "526301100        NAmes        1960             6           TA         TA   \n",
       "526350040        NAmes        1961             5           TA         TA   \n",
       "526351010        NAmes        1958             6           Gd         TA   \n",
       "526353030        NAmes        1968             7           Ex         Gd   \n",
       "527105010      Gilbert        1997             5           TA         TA   \n",
       "\n",
       "           Lot Area  SalePrice  Price per Area  \n",
       "PID                                             \n",
       "526301100     31770     215000        6.767391  \n",
       "526350040     11622     105000        9.034590  \n",
       "526351010     14267     172000       12.055793  \n",
       "526353030     11160     244000       21.863799  \n",
       "527105010     13830     189900       13.731020  "
      ]
     },
     "execution_count": 135,
     "metadata": {},
     "output_type": "execute_result"
    }
   ],
   "source": [
    "# Taking a brief look at the data using \".head()\"\n",
    "df.head()"
   ]
  },
  {
   "cell_type": "code",
   "execution_count": 136,
   "metadata": {},
   "outputs": [
    {
     "data": {
      "image/png": "[encoded data removed]",
      "text/plain": [
       "<Figure size 900x300 with 1 Axes>"
      ]
     },
     "metadata": {
      "needs_background": "light"
     },
     "output_type": "display_data"
    }
   ],
   "source": [
    "# Creating a histogram of the \"Price per Area\" feature and also showing the mean and the median\n",
    "plt.figure(figsize = (9, 3), dpi= 100)\n",
    "sns.histplot(data = df, x = 'Price per Area', color = 'orange', edgecolor = 'linen', alpha = 0.5)\n",
    "plt.title('Histogram of Price per Area of Houses')\n",
    "plt.xlabel('Price per Area of House in dollars per square feet')\n",
    "plt.ylabel('Count')\n",
    "plt.vlines(x = df['Price per Area'].mean(), ymin = 0, ymax = 275, colors = 'blue', label = 'Mean')\n",
    "plt.vlines(x = df['Price per Area'].median(), ymin = 0, ymax = 275, colors = 'red', label = 'Median')\n",
    "plt.legend();"
   ]
  },
  {
   "cell_type": "code",
   "execution_count": 137,
   "metadata": {},
   "outputs": [
    {
     "data": {
      "image/png": "[encoded data removed]",
      "text/plain": [
       "<Figure size 800x400 with 1 Axes>"
      ]
     },
     "metadata": {
      "needs_background": "light"
     },
     "output_type": "display_data"
    }
   ],
   "source": [
    "# Creating a box plot of the \"Price per Area\" feature\n",
    "plt.figure(figsize = (8, 4), dpi= 100)\n",
    "sns.boxplot(data = df, x = 'Price per Area', color = 'linen')\n",
    "plt.title('Box Plot of Price per Area of Houses')\n",
    "plt.xlabel('Price per Area of House in dollars per square feet');"
   ]
  },
  {
   "cell_type": "markdown",
   "metadata": {},
   "source": [
    "----------------------"
   ]
  },
  {
   "cell_type": "code",
   "execution_count": 138,
   "metadata": {},
   "outputs": [
    {
     "data": {
      "text/plain": [
       "Index(['Neighborhood', 'Year Built', 'Overall Qual', 'Kitchen Qual',\n",
       "       'Exter Qual', 'Lot Area', 'SalePrice', 'Price per Area'],\n",
       "      dtype='object')"
      ]
     },
     "execution_count": 138,
     "metadata": {},
     "output_type": "execute_result"
    }
   ],
   "source": [
    "# Getting the column names of the data frame using \".columns\"\n",
    "df.columns"
   ]
  },
  {
   "cell_type": "code",
   "execution_count": 139,
   "metadata": {},
   "outputs": [
    {
     "data": {
      "image/png": "[encoded data removed]",
      "text/plain": [
       "<Figure size 900x300 with 1 Axes>"
      ]
     },
     "metadata": {
      "needs_background": "light"
     },
     "output_type": "display_data"
    }
   ],
   "source": [
    "# Creating a count plot of the \"Overall Qual\" feature\n",
    "plt.figure(figsize = (9, 3), dpi= 100)\n",
    "sns.countplot(data = df, x = 'Overall Qual')\n",
    "plt.title('Count Plot of Number of Houses Based on Overall Quality')\n",
    "plt.xlabel('Overall Quality of the House on a Scale of 1 to 10')\n",
    "plt.ylabel('Count');"
   ]
  },
  {
   "cell_type": "markdown",
   "metadata": {},
   "source": [
    "------------------------"
   ]
  },
  {
   "cell_type": "code",
   "execution_count": 140,
   "metadata": {},
   "outputs": [
    {
     "data": {
      "text/plain": [
       "Index(['Neighborhood', 'Year Built', 'Overall Qual', 'Kitchen Qual',\n",
       "       'Exter Qual', 'Lot Area', 'SalePrice', 'Price per Area'],\n",
       "      dtype='object')"
      ]
     },
     "execution_count": 140,
     "metadata": {},
     "output_type": "execute_result"
    }
   ],
   "source": [
    "# Getting the column names of the data frame using \".columns\"\n",
    "df.columns"
   ]
  },
  {
   "cell_type": "code",
   "execution_count": 141,
   "metadata": {},
   "outputs": [
    {
     "data": {
      "image/png": "[encoded data removed]",
      "text/plain": [
       "<Figure size 900x300 with 1 Axes>"
      ]
     },
     "metadata": {
      "needs_background": "light"
     },
     "output_type": "display_data"
    }
   ],
   "source": [
    "# Creating a count plot of the \"Kitchen Qual\" feature\n",
    "plt.figure(figsize = (9, 3), dpi= 100)\n",
    "sns.countplot(data = df, x = 'Kitchen Qual')\n",
    "plt.title('Count Plot of Number of Houses Based on Kitchen Quality')\n",
    "plt.xlabel('Kitchen Quality')\n",
    "plt.ylabel('Count');"
   ]
  },
  {
   "cell_type": "code",
   "execution_count": 142,
   "metadata": {},
   "outputs": [
    {
     "data": {
      "image/png": "[encoded data removed]",
      "text/plain": [
       "<Figure size 900x300 with 1 Axes>"
      ]
     },
     "metadata": {
      "needs_background": "light"
     },
     "output_type": "display_data"
    }
   ],
   "source": [
    "# Creating a count plot of the \"Exter Qual\" feature\n",
    "plt.figure(figsize = (9, 3), dpi= 100)\n",
    "sns.countplot(data = df, x = 'Exter Qual')\n",
    "plt.title('Count Plot of Number of Houses Based on Exterior Material Quality')\n",
    "plt.xlabel('Exterior Material Quality')\n",
    "plt.ylabel('Count');"
   ]
  },
  {
   "cell_type": "markdown",
   "metadata": {},
   "source": [
    "------------------------------"
   ]
  },
  {
   "cell_type": "markdown",
   "metadata": {},
   "source": [
    "# Task 4 - Subsetting the dataframe to meet the Business requirements"
   ]
  },
  {
   "cell_type": "code",
   "execution_count": 143,
   "metadata": {},
   "outputs": [
    {
     "data": {
      "text/html": [
       "<div>\n",
       "<style scoped>\n",
       "    .dataframe tbody tr th:only-of-type {\n",
       "        vertical-align: middle;\n",
       "    }\n",
       "\n",
       "    .dataframe tbody tr th {\n",
       "        vertical-align: top;\n",
       "    }\n",
       "\n",
       "    .dataframe thead th {\n",
       "        text-align: right;\n",
       "    }\n",
       "</style>\n",
       "<table border=\"1\" class=\"dataframe\">\n",
       "  <thead>\n",
       "    <tr style=\"text-align: right;\">\n",
       "      <th></th>\n",
       "      <th>Neighborhood</th>\n",
       "      <th>Year Built</th>\n",
       "      <th>Overall Qual</th>\n",
       "      <th>Kitchen Qual</th>\n",
       "      <th>Exter Qual</th>\n",
       "      <th>Lot Area</th>\n",
       "      <th>SalePrice</th>\n",
       "      <th>Price per Area</th>\n",
       "    </tr>\n",
       "    <tr>\n",
       "      <th>PID</th>\n",
       "      <th></th>\n",
       "      <th></th>\n",
       "      <th></th>\n",
       "      <th></th>\n",
       "      <th></th>\n",
       "      <th></th>\n",
       "      <th></th>\n",
       "      <th></th>\n",
       "    </tr>\n",
       "  </thead>\n",
       "  <tbody>\n",
       "    <tr>\n",
       "      <th>526301100</th>\n",
       "      <td>NAmes</td>\n",
       "      <td>1960</td>\n",
       "      <td>6</td>\n",
       "      <td>TA</td>\n",
       "      <td>TA</td>\n",
       "      <td>31770</td>\n",
       "      <td>215000</td>\n",
       "      <td>6.767391</td>\n",
       "    </tr>\n",
       "    <tr>\n",
       "      <th>526350040</th>\n",
       "      <td>NAmes</td>\n",
       "      <td>1961</td>\n",
       "      <td>5</td>\n",
       "      <td>TA</td>\n",
       "      <td>TA</td>\n",
       "      <td>11622</td>\n",
       "      <td>105000</td>\n",
       "      <td>9.034590</td>\n",
       "    </tr>\n",
       "    <tr>\n",
       "      <th>526351010</th>\n",
       "      <td>NAmes</td>\n",
       "      <td>1958</td>\n",
       "      <td>6</td>\n",
       "      <td>Gd</td>\n",
       "      <td>TA</td>\n",
       "      <td>14267</td>\n",
       "      <td>172000</td>\n",
       "      <td>12.055793</td>\n",
       "    </tr>\n",
       "    <tr>\n",
       "      <th>526353030</th>\n",
       "      <td>NAmes</td>\n",
       "      <td>1968</td>\n",
       "      <td>7</td>\n",
       "      <td>Ex</td>\n",
       "      <td>Gd</td>\n",
       "      <td>11160</td>\n",
       "      <td>244000</td>\n",
       "      <td>21.863799</td>\n",
       "    </tr>\n",
       "    <tr>\n",
       "      <th>527105010</th>\n",
       "      <td>Gilbert</td>\n",
       "      <td>1997</td>\n",
       "      <td>5</td>\n",
       "      <td>TA</td>\n",
       "      <td>TA</td>\n",
       "      <td>13830</td>\n",
       "      <td>189900</td>\n",
       "      <td>13.731020</td>\n",
       "    </tr>\n",
       "  </tbody>\n",
       "</table>\n",
       "</div>"
      ],
      "text/plain": [
       "          Neighborhood  Year Built  Overall Qual Kitchen Qual Exter Qual  \\\n",
       "PID                                                                        \n",
       "526301100        NAmes        1960             6           TA         TA   \n",
       "526350040        NAmes        1961             5           TA         TA   \n",
       "526351010        NAmes        1958             6           Gd         TA   \n",
       "526353030        NAmes        1968             7           Ex         Gd   \n",
       "527105010      Gilbert        1997             5           TA         TA   \n",
       "\n",
       "           Lot Area  SalePrice  Price per Area  \n",
       "PID                                             \n",
       "526301100     31770     215000        6.767391  \n",
       "526350040     11622     105000        9.034590  \n",
       "526351010     14267     172000       12.055793  \n",
       "526353030     11160     244000       21.863799  \n",
       "527105010     13830     189900       13.731020  "
      ]
     },
     "execution_count": 143,
     "metadata": {},
     "output_type": "execute_result"
    }
   ],
   "source": [
    "# Taking a brief look again at the data using \".head()\" before subsetting\n",
    "df.head()"
   ]
  },
  {
   "cell_type": "code",
   "execution_count": 144,
   "metadata": {},
   "outputs": [
    {
     "data": {
      "text/plain": [
       "(2930, 8)"
      ]
     },
     "execution_count": 144,
     "metadata": {},
     "output_type": "execute_result"
    }
   ],
   "source": [
    "# Getting the dimensions of the data frame using \".shape\"\n",
    "# before subsetting\n",
    "\n",
    "df.shape"
   ]
  },
  {
   "cell_type": "code",
   "execution_count": 145,
   "metadata": {},
   "outputs": [],
   "source": [
    "# Subsetting the data frame to contain only the houses whose \"Year Built\" feature is greater than the median\n",
    "yr_median = df['Year Built'].median()\n",
    "df = df[df['Year Built'] > yr_median]"
   ]
  },
  {
   "cell_type": "code",
   "execution_count": 146,
   "metadata": {},
   "outputs": [],
   "source": [
    "# Subsetting the data frame to contain only the houses whose \"Price per Area\" feature is less than the median\n",
    "ppa_median = df['Price per Area'].median()\n",
    "df = df[df['Price per Area'] < ppa_median]"
   ]
  },
  {
   "cell_type": "code",
   "execution_count": 147,
   "metadata": {},
   "outputs": [],
   "source": [
    "# Subsetting the data frame to contain only the houses whose \"Overall Qual\" feature is greater than the mode\n",
    "ovq_mode = df['Overall Qual'].value_counts().index[0]\n",
    "df = df[df['Overall Qual'] > ovq_mode]"
   ]
  },
  {
   "cell_type": "code",
   "execution_count": 148,
   "metadata": {},
   "outputs": [],
   "source": [
    "# Subsetting the data frame to contain only the houses whose \"Kitchen Qual\" feature is typical, good or excellent\n",
    "df = df[(df['Kitchen Qual'] != \"Po\") & (df['Kitchen Qual'] != \"Fa\")]"
   ]
  },
  {
   "cell_type": "code",
   "execution_count": 149,
   "metadata": {},
   "outputs": [],
   "source": [
    "# Subsetting the data frame to contain only the houses whose \"Exter Qual\" feature is typical, good or excellent\n",
    "df = df[(df['Exter Qual'] != \"Po\") & (df['Exter Qual'] != \"Fa\")]"
   ]
  },
  {
   "cell_type": "code",
   "execution_count": 150,
   "metadata": {},
   "outputs": [
    {
     "data": {
      "text/plain": [
       "(112, 8)"
      ]
     },
     "execution_count": 150,
     "metadata": {},
     "output_type": "execute_result"
    }
   ],
   "source": [
    "# Getting the dimensions of the data frame using \".shape\"\n",
    "# After subsetting to meet the requirements\n",
    "\n",
    "df.shape"
   ]
  },
  {
   "cell_type": "markdown",
   "metadata": {},
   "source": [
    "-------------------"
   ]
  },
  {
   "cell_type": "code",
   "execution_count": 151,
   "metadata": {
    "scrolled": true
   },
   "outputs": [
    {
     "data": {
      "text/html": [
       "<div>\n",
       "<style scoped>\n",
       "    .dataframe tbody tr th:only-of-type {\n",
       "        vertical-align: middle;\n",
       "    }\n",
       "\n",
       "    .dataframe tbody tr th {\n",
       "        vertical-align: top;\n",
       "    }\n",
       "\n",
       "    .dataframe thead th {\n",
       "        text-align: right;\n",
       "    }\n",
       "</style>\n",
       "<table border=\"1\" class=\"dataframe\">\n",
       "  <thead>\n",
       "    <tr style=\"text-align: right;\">\n",
       "      <th></th>\n",
       "      <th>Neighborhood</th>\n",
       "      <th>Year Built</th>\n",
       "      <th>Overall Qual</th>\n",
       "      <th>Kitchen Qual</th>\n",
       "      <th>Exter Qual</th>\n",
       "      <th>Lot Area</th>\n",
       "      <th>SalePrice</th>\n",
       "      <th>Price per Area</th>\n",
       "    </tr>\n",
       "    <tr>\n",
       "      <th>PID</th>\n",
       "      <th></th>\n",
       "      <th></th>\n",
       "      <th></th>\n",
       "      <th></th>\n",
       "      <th></th>\n",
       "      <th></th>\n",
       "      <th></th>\n",
       "      <th></th>\n",
       "    </tr>\n",
       "  </thead>\n",
       "  <tbody>\n",
       "    <tr>\n",
       "      <th>527216070</th>\n",
       "      <td>StoneBr</td>\n",
       "      <td>2003</td>\n",
       "      <td>8</td>\n",
       "      <td>Ex</td>\n",
       "      <td>Ex</td>\n",
       "      <td>53504</td>\n",
       "      <td>538000</td>\n",
       "      <td>10.055323</td>\n",
       "    </tr>\n",
       "    <tr>\n",
       "      <th>527225035</th>\n",
       "      <td>Gilbert</td>\n",
       "      <td>1988</td>\n",
       "      <td>8</td>\n",
       "      <td>TA</td>\n",
       "      <td>Gd</td>\n",
       "      <td>12134</td>\n",
       "      <td>164000</td>\n",
       "      <td>13.515741</td>\n",
       "    </tr>\n",
       "    <tr>\n",
       "      <th>528138020</th>\n",
       "      <td>NridgHt</td>\n",
       "      <td>2005</td>\n",
       "      <td>8</td>\n",
       "      <td>Ex</td>\n",
       "      <td>Gd</td>\n",
       "      <td>14122</td>\n",
       "      <td>259000</td>\n",
       "      <td>18.340178</td>\n",
       "    </tr>\n",
       "    <tr>\n",
       "      <th>528344070</th>\n",
       "      <td>NoRidge</td>\n",
       "      <td>1998</td>\n",
       "      <td>8</td>\n",
       "      <td>Gd</td>\n",
       "      <td>Gd</td>\n",
       "      <td>17433</td>\n",
       "      <td>355000</td>\n",
       "      <td>20.363678</td>\n",
       "    </tr>\n",
       "    <tr>\n",
       "      <th>533238045</th>\n",
       "      <td>Somerst</td>\n",
       "      <td>2010</td>\n",
       "      <td>8</td>\n",
       "      <td>Gd</td>\n",
       "      <td>Gd</td>\n",
       "      <td>12853</td>\n",
       "      <td>267916</td>\n",
       "      <td>20.844628</td>\n",
       "    </tr>\n",
       "  </tbody>\n",
       "</table>\n",
       "</div>"
      ],
      "text/plain": [
       "          Neighborhood  Year Built  Overall Qual Kitchen Qual Exter Qual  \\\n",
       "PID                                                                        \n",
       "527216070      StoneBr        2003             8           Ex         Ex   \n",
       "527225035      Gilbert        1988             8           TA         Gd   \n",
       "528138020      NridgHt        2005             8           Ex         Gd   \n",
       "528344070      NoRidge        1998             8           Gd         Gd   \n",
       "533238045      Somerst        2010             8           Gd         Gd   \n",
       "\n",
       "           Lot Area  SalePrice  Price per Area  \n",
       "PID                                             \n",
       "527216070     53504     538000       10.055323  \n",
       "527225035     12134     164000       13.515741  \n",
       "528138020     14122     259000       18.340178  \n",
       "528344070     17433     355000       20.363678  \n",
       "533238045     12853     267916       20.844628  "
      ]
     },
     "execution_count": 151,
     "metadata": {},
     "output_type": "execute_result"
    }
   ],
   "source": [
    "# Taking a brief look at the data using \".head()\" after subsetting\n",
    "df.head()"
   ]
  },
  {
   "cell_type": "markdown",
   "metadata": {},
   "source": [
    "-----------------------"
   ]
  },
  {
   "cell_type": "markdown",
   "metadata": {},
   "source": [
    "# Task 5 - Creating a new data frame \"nbd\" (neighbourhood) to store the representative values for each neighbourhood"
   ]
  },
  {
   "cell_type": "code",
   "execution_count": 152,
   "metadata": {},
   "outputs": [
    {
     "data": {
      "image/png": "[encoded data removed]",
      "text/plain": [
       "<Figure size 900x300 with 1 Axes>"
      ]
     },
     "metadata": {
      "needs_background": "light"
     },
     "output_type": "display_data"
    }
   ],
   "source": [
    "# Creating a count plot of the \"Neighborhood\" feature\n",
    "plt.figure(figsize = (9, 3), dpi= 100)\n",
    "sns.countplot(data = df, x = 'Neighborhood')\n",
    "plt.title('Count Plot of Number of Houses Based on Neighborhood')\n",
    "plt.xlabel('Neighborhood')\n",
    "plt.ylabel('Count')\n",
    "plt.xticks(rotation = 90);"
   ]
  },
  {
   "cell_type": "markdown",
   "metadata": {},
   "source": [
    "-------------------"
   ]
  },
  {
   "cell_type": "code",
   "execution_count": 153,
   "metadata": {},
   "outputs": [
    {
     "data": {
      "text/plain": [
       "array(['StoneBr', 'Gilbert', 'NridgHt', 'NoRidge', 'Somerst', 'CollgCr',\n",
       "       'Timber', 'SawyerW', 'Veenker', 'NWAmes', 'Edwards', 'Mitchel',\n",
       "       'ClearCr', 'Crawfor'], dtype=object)"
      ]
     },
     "execution_count": 153,
     "metadata": {},
     "output_type": "execute_result"
    }
   ],
   "source": [
    "# Storing the unique neighbourhood names in the data frame as a list\n",
    "nbd_names = df['Neighborhood'].unique()\n",
    "nbd_names"
   ]
  },
  {
   "cell_type": "code",
   "execution_count": 154,
   "metadata": {},
   "outputs": [
    {
     "data": {
      "text/plain": [
       "Neighborhood\n",
       "StoneBr     3\n",
       "Gilbert     6\n",
       "NridgHt    19\n",
       "NoRidge    12\n",
       "Somerst    17\n",
       "CollgCr    21\n",
       "Timber     14\n",
       "SawyerW     4\n",
       "Veenker     9\n",
       "NWAmes      1\n",
       "Edwards     3\n",
       "Mitchel     1\n",
       "ClearCr     1\n",
       "Crawfor     1\n",
       "dtype: int64"
      ]
     },
     "execution_count": 154,
     "metadata": {},
     "output_type": "execute_result"
    }
   ],
   "source": [
    "# Storing the number of houses for each neighbourhood\n",
    "nbd_houses = df.groupby('Neighborhood').apply(lambda x: x.shape[0])\n",
    "nbd_houses = nbd_houses.reindex(index = nbd_names)\n",
    "nbd_houses"
   ]
  },
  {
   "cell_type": "code",
   "execution_count": 155,
   "metadata": {},
   "outputs": [
    {
     "data": {
      "text/plain": [
       "Neighborhood\n",
       "StoneBr    2003.0\n",
       "Gilbert    2003.0\n",
       "NridgHt    2005.0\n",
       "NoRidge    1994.0\n",
       "Somerst    2006.0\n",
       "CollgCr    2002.0\n",
       "Timber     2005.5\n",
       "SawyerW    1994.0\n",
       "Veenker    1980.0\n",
       "NWAmes     1996.0\n",
       "Edwards    2008.0\n",
       "Mitchel    2002.0\n",
       "ClearCr    1976.0\n",
       "Crawfor    1986.0\n",
       "Name: Year Built, dtype: float64"
      ]
     },
     "execution_count": 155,
     "metadata": {},
     "output_type": "execute_result"
    }
   ],
   "source": [
    "# Storing the median \"Year Built\" feature for each neighbourhood\n",
    "nbd_year = df.groupby('Neighborhood')['Year Built'].median()\n",
    "nbd_year = nbd_year.reindex(index = nbd_names)\n",
    "nbd_year"
   ]
  },
  {
   "cell_type": "code",
   "execution_count": 156,
   "metadata": {},
   "outputs": [
    {
     "data": {
      "text/plain": [
       "Neighborhood\n",
       "StoneBr     8.333333\n",
       "Gilbert     8.000000\n",
       "NridgHt     8.263158\n",
       "NoRidge     8.166667\n",
       "Somerst     8.117647\n",
       "CollgCr     8.047619\n",
       "Timber      8.142857\n",
       "SawyerW     8.000000\n",
       "Veenker     8.222222\n",
       "NWAmes      8.000000\n",
       "Edwards    10.000000\n",
       "Mitchel     8.000000\n",
       "ClearCr     8.000000\n",
       "Crawfor     8.000000\n",
       "Name: Overall Qual, dtype: float64"
      ]
     },
     "execution_count": 156,
     "metadata": {},
     "output_type": "execute_result"
    }
   ],
   "source": [
    "# Storing the mean \"Overall Qual\" feature for each neighbourhood\n",
    "nbd_ovq = df.groupby('Neighborhood')['Overall Qual'].mean()\n",
    "nbd_ovq = nbd_ovq.reindex(index = nbd_names)\n",
    "nbd_ovq"
   ]
  },
  {
   "cell_type": "code",
   "execution_count": 157,
   "metadata": {},
   "outputs": [
    {
     "data": {
      "text/plain": [
       "Neighborhood\n",
       "StoneBr    Gd\n",
       "Gilbert    Gd\n",
       "NridgHt    Gd\n",
       "NoRidge    Gd\n",
       "Somerst    Gd\n",
       "CollgCr    Gd\n",
       "Timber     Gd\n",
       "SawyerW    Gd\n",
       "Veenker    Gd\n",
       "NWAmes     Gd\n",
       "Edwards    Ex\n",
       "Mitchel    Gd\n",
       "ClearCr    Gd\n",
       "Crawfor    Gd\n",
       "Name: Kitchen Qual, dtype: object"
      ]
     },
     "execution_count": 157,
     "metadata": {},
     "output_type": "execute_result"
    }
   ],
   "source": [
    "# Storing the modal \"Kitchen Qual\" feature for each neighbourhood\n",
    "nbd_kcq = df.groupby('Neighborhood')['Kitchen Qual'].apply(lambda x: x.value_counts().index[0])\n",
    "nbd_kcq = nbd_kcq.reindex(index = nbd_names)\n",
    "nbd_kcq"
   ]
  },
  {
   "cell_type": "code",
   "execution_count": 158,
   "metadata": {},
   "outputs": [
    {
     "data": {
      "text/plain": [
       "Neighborhood\n",
       "StoneBr    Ex\n",
       "Gilbert    Gd\n",
       "NridgHt    Gd\n",
       "NoRidge    Gd\n",
       "Somerst    Gd\n",
       "CollgCr    Gd\n",
       "Timber     Gd\n",
       "SawyerW    Gd\n",
       "Veenker    Gd\n",
       "NWAmes     Gd\n",
       "Edwards    Ex\n",
       "Mitchel    Gd\n",
       "ClearCr    Gd\n",
       "Crawfor    Gd\n",
       "Name: Exter Qual, dtype: object"
      ]
     },
     "execution_count": 158,
     "metadata": {},
     "output_type": "execute_result"
    }
   ],
   "source": [
    "# Storing the modal \"Exter Qual\" feature for each neighbourhood\n",
    "nbd_exq = df.groupby('Neighborhood')['Exter Qual'].apply(lambda x: x.value_counts().index[0])\n",
    "nbd_exq = nbd_exq.reindex(index = nbd_names)\n",
    "nbd_exq"
   ]
  },
  {
   "cell_type": "code",
   "execution_count": 159,
   "metadata": {},
   "outputs": [
    {
     "data": {
      "text/plain": [
       "Neighborhood\n",
       "StoneBr    39528.666667\n",
       "Gilbert    11672.333333\n",
       "NridgHt    15466.157895\n",
       "NoRidge    18624.583333\n",
       "Somerst    12867.823529\n",
       "CollgCr    12782.809524\n",
       "Timber     13445.214286\n",
       "SawyerW    10297.500000\n",
       "Veenker    19433.111111\n",
       "NWAmes     14311.000000\n",
       "Edwards    47757.000000\n",
       "Mitchel    13265.000000\n",
       "ClearCr    20064.000000\n",
       "Crawfor    18044.000000\n",
       "Name: Lot Area, dtype: float64"
      ]
     },
     "execution_count": 159,
     "metadata": {},
     "output_type": "execute_result"
    }
   ],
   "source": [
    "# Storing the mean \"Lot Area\" feature for each neighbourhood\n",
    "nbd_lot = df.groupby('Neighborhood')['Lot Area'].mean()\n",
    "nbd_lot = nbd_lot.reindex(index = nbd_names)\n",
    "nbd_lot"
   ]
  },
  {
   "cell_type": "code",
   "execution_count": 160,
   "metadata": {},
   "outputs": [
    {
     "data": {
      "text/plain": [
       "Neighborhood\n",
       "StoneBr    466529.000000\n",
       "Gilbert    223000.000000\n",
       "NridgHt    302021.368421\n",
       "NoRidge    324170.833333\n",
       "Somerst    256204.647059\n",
       "CollgCr    241956.190476\n",
       "Timber     264538.714286\n",
       "SawyerW    215750.000000\n",
       "Veenker    270583.333333\n",
       "NWAmes     306000.000000\n",
       "Edwards    176200.000000\n",
       "Mitchel    271000.000000\n",
       "ClearCr    279000.000000\n",
       "Crawfor    315000.000000\n",
       "Name: SalePrice, dtype: float64"
      ]
     },
     "execution_count": 160,
     "metadata": {},
     "output_type": "execute_result"
    }
   ],
   "source": [
    "# Storing the mean \"SalePrice\" feature for each neighbourhood\n",
    "nbd_sp = df.groupby('Neighborhood')['SalePrice'].mean()\n",
    "nbd_sp = nbd_sp.reindex(index = nbd_names)\n",
    "nbd_sp"
   ]
  },
  {
   "cell_type": "code",
   "execution_count": 161,
   "metadata": {},
   "outputs": [
    {
     "data": {
      "text/plain": [
       "Neighborhood\n",
       "StoneBr    14.011932\n",
       "Gilbert    19.160525\n",
       "NridgHt    19.692874\n",
       "NoRidge    19.200591\n",
       "Somerst    19.868429\n",
       "CollgCr    19.207571\n",
       "Timber     19.939039\n",
       "SawyerW    21.018843\n",
       "Veenker    16.295566\n",
       "NWAmes     21.382154\n",
       "Edwards     3.930550\n",
       "Mitchel    20.429702\n",
       "ClearCr    13.905502\n",
       "Crawfor    17.457327\n",
       "Name: Price per Area, dtype: float64"
      ]
     },
     "execution_count": 161,
     "metadata": {},
     "output_type": "execute_result"
    }
   ],
   "source": [
    "# Storing the mean \"Price per Area\" feature for each neighbourhood\n",
    "nbd_ppa = df.groupby('Neighborhood')['Price per Area'].mean()\n",
    "nbd_ppa = nbd_ppa.reindex(index = nbd_names)\n",
    "nbd_ppa"
   ]
  },
  {
   "cell_type": "code",
   "execution_count": 162,
   "metadata": {},
   "outputs": [
    {
     "data": {
      "text/plain": [
       "Neighborhood\n",
       "StoneBr    4.390784\n",
       "Gilbert    1.920681\n",
       "NridgHt    1.994279\n",
       "NoRidge    2.829039\n",
       "Somerst    1.358809\n",
       "CollgCr    2.119454\n",
       "Timber     2.300928\n",
       "SawyerW    1.188072\n",
       "Veenker    4.184029\n",
       "NWAmes     0.000000\n",
       "Edwards    0.950752\n",
       "Mitchel    0.000000\n",
       "ClearCr    0.000000\n",
       "Crawfor    0.000000\n",
       "Name: Price per Area, dtype: float64"
      ]
     },
     "execution_count": 162,
     "metadata": {},
     "output_type": "execute_result"
    }
   ],
   "source": [
    "# Calculating and storing the mean absolute deviation values for the \"Price per Area\" feature about its mean for each neighbourhood\n",
    "nbd_ppa_mad = df.groupby('Neighborhood')['Price per Area'].mad()\n",
    "nbd_ppa_mad = nbd_ppa_mad.reindex(index = nbd_names)\n",
    "nbd_ppa_mad"
   ]
  },
  {
   "cell_type": "code",
   "execution_count": 163,
   "metadata": {},
   "outputs": [],
   "source": [
    "# Creating a data frame to store the representative values for each neighbourhood\n",
    "nbd = pd.DataFrame(data = {'Number of Houses' : nbd_houses,\n",
    "                           'Median Year Built' : nbd_year,\n",
    "                           'Mean Overall Quality' : nbd_ovq,\n",
    "                           'Modal Kitchen Quality' : nbd_kcq,\n",
    "                           'Modal Exter Quality' : nbd_exq,\n",
    "                           'Mean Lot Area' : nbd_lot,\n",
    "                           'Mean Sale Price' : nbd_sp,\n",
    "                           'Mean Price per Area' : nbd_ppa,\n",
    "                           'Deviation in Price per Area' : nbd_ppa_mad},\n",
    "                   index = nbd_names)"
   ]
  },
  {
   "cell_type": "code",
   "execution_count": 164,
   "metadata": {},
   "outputs": [
    {
     "data": {
      "text/html": [
       "<div>\n",
       "<style scoped>\n",
       "    .dataframe tbody tr th:only-of-type {\n",
       "        vertical-align: middle;\n",
       "    }\n",
       "\n",
       "    .dataframe tbody tr th {\n",
       "        vertical-align: top;\n",
       "    }\n",
       "\n",
       "    .dataframe thead th {\n",
       "        text-align: right;\n",
       "    }\n",
       "</style>\n",
       "<table border=\"1\" class=\"dataframe\">\n",
       "  <thead>\n",
       "    <tr style=\"text-align: right;\">\n",
       "      <th></th>\n",
       "      <th>Number of Houses</th>\n",
       "      <th>Median Year Built</th>\n",
       "      <th>Mean Overall Quality</th>\n",
       "      <th>Modal Kitchen Quality</th>\n",
       "      <th>Modal Exter Quality</th>\n",
       "      <th>Mean Lot Area</th>\n",
       "      <th>Mean Sale Price</th>\n",
       "      <th>Mean Price per Area</th>\n",
       "      <th>Deviation in Price per Area</th>\n",
       "    </tr>\n",
       "  </thead>\n",
       "  <tbody>\n",
       "    <tr>\n",
       "      <th>StoneBr</th>\n",
       "      <td>3</td>\n",
       "      <td>2003.0</td>\n",
       "      <td>8.333333</td>\n",
       "      <td>Gd</td>\n",
       "      <td>Ex</td>\n",
       "      <td>39528.666667</td>\n",
       "      <td>466529.000000</td>\n",
       "      <td>14.011932</td>\n",
       "      <td>4.390784</td>\n",
       "    </tr>\n",
       "    <tr>\n",
       "      <th>Gilbert</th>\n",
       "      <td>6</td>\n",
       "      <td>2003.0</td>\n",
       "      <td>8.000000</td>\n",
       "      <td>Gd</td>\n",
       "      <td>Gd</td>\n",
       "      <td>11672.333333</td>\n",
       "      <td>223000.000000</td>\n",
       "      <td>19.160525</td>\n",
       "      <td>1.920681</td>\n",
       "    </tr>\n",
       "    <tr>\n",
       "      <th>NridgHt</th>\n",
       "      <td>19</td>\n",
       "      <td>2005.0</td>\n",
       "      <td>8.263158</td>\n",
       "      <td>Gd</td>\n",
       "      <td>Gd</td>\n",
       "      <td>15466.157895</td>\n",
       "      <td>302021.368421</td>\n",
       "      <td>19.692874</td>\n",
       "      <td>1.994279</td>\n",
       "    </tr>\n",
       "    <tr>\n",
       "      <th>NoRidge</th>\n",
       "      <td>12</td>\n",
       "      <td>1994.0</td>\n",
       "      <td>8.166667</td>\n",
       "      <td>Gd</td>\n",
       "      <td>Gd</td>\n",
       "      <td>18624.583333</td>\n",
       "      <td>324170.833333</td>\n",
       "      <td>19.200591</td>\n",
       "      <td>2.829039</td>\n",
       "    </tr>\n",
       "    <tr>\n",
       "      <th>Somerst</th>\n",
       "      <td>17</td>\n",
       "      <td>2006.0</td>\n",
       "      <td>8.117647</td>\n",
       "      <td>Gd</td>\n",
       "      <td>Gd</td>\n",
       "      <td>12867.823529</td>\n",
       "      <td>256204.647059</td>\n",
       "      <td>19.868429</td>\n",
       "      <td>1.358809</td>\n",
       "    </tr>\n",
       "    <tr>\n",
       "      <th>CollgCr</th>\n",
       "      <td>21</td>\n",
       "      <td>2002.0</td>\n",
       "      <td>8.047619</td>\n",
       "      <td>Gd</td>\n",
       "      <td>Gd</td>\n",
       "      <td>12782.809524</td>\n",
       "      <td>241956.190476</td>\n",
       "      <td>19.207571</td>\n",
       "      <td>2.119454</td>\n",
       "    </tr>\n",
       "    <tr>\n",
       "      <th>Timber</th>\n",
       "      <td>14</td>\n",
       "      <td>2005.5</td>\n",
       "      <td>8.142857</td>\n",
       "      <td>Gd</td>\n",
       "      <td>Gd</td>\n",
       "      <td>13445.214286</td>\n",
       "      <td>264538.714286</td>\n",
       "      <td>19.939039</td>\n",
       "      <td>2.300928</td>\n",
       "    </tr>\n",
       "    <tr>\n",
       "      <th>SawyerW</th>\n",
       "      <td>4</td>\n",
       "      <td>1994.0</td>\n",
       "      <td>8.000000</td>\n",
       "      <td>Gd</td>\n",
       "      <td>Gd</td>\n",
       "      <td>10297.500000</td>\n",
       "      <td>215750.000000</td>\n",
       "      <td>21.018843</td>\n",
       "      <td>1.188072</td>\n",
       "    </tr>\n",
       "    <tr>\n",
       "      <th>Veenker</th>\n",
       "      <td>9</td>\n",
       "      <td>1980.0</td>\n",
       "      <td>8.222222</td>\n",
       "      <td>Gd</td>\n",
       "      <td>Gd</td>\n",
       "      <td>19433.111111</td>\n",
       "      <td>270583.333333</td>\n",
       "      <td>16.295566</td>\n",
       "      <td>4.184029</td>\n",
       "    </tr>\n",
       "    <tr>\n",
       "      <th>NWAmes</th>\n",
       "      <td>1</td>\n",
       "      <td>1996.0</td>\n",
       "      <td>8.000000</td>\n",
       "      <td>Gd</td>\n",
       "      <td>Gd</td>\n",
       "      <td>14311.000000</td>\n",
       "      <td>306000.000000</td>\n",
       "      <td>21.382154</td>\n",
       "      <td>0.000000</td>\n",
       "    </tr>\n",
       "    <tr>\n",
       "      <th>Edwards</th>\n",
       "      <td>3</td>\n",
       "      <td>2008.0</td>\n",
       "      <td>10.000000</td>\n",
       "      <td>Ex</td>\n",
       "      <td>Ex</td>\n",
       "      <td>47757.000000</td>\n",
       "      <td>176200.000000</td>\n",
       "      <td>3.930550</td>\n",
       "      <td>0.950752</td>\n",
       "    </tr>\n",
       "    <tr>\n",
       "      <th>Mitchel</th>\n",
       "      <td>1</td>\n",
       "      <td>2002.0</td>\n",
       "      <td>8.000000</td>\n",
       "      <td>Gd</td>\n",
       "      <td>Gd</td>\n",
       "      <td>13265.000000</td>\n",
       "      <td>271000.000000</td>\n",
       "      <td>20.429702</td>\n",
       "      <td>0.000000</td>\n",
       "    </tr>\n",
       "    <tr>\n",
       "      <th>ClearCr</th>\n",
       "      <td>1</td>\n",
       "      <td>1976.0</td>\n",
       "      <td>8.000000</td>\n",
       "      <td>Gd</td>\n",
       "      <td>Gd</td>\n",
       "      <td>20064.000000</td>\n",
       "      <td>279000.000000</td>\n",
       "      <td>13.905502</td>\n",
       "      <td>0.000000</td>\n",
       "    </tr>\n",
       "    <tr>\n",
       "      <th>Crawfor</th>\n",
       "      <td>1</td>\n",
       "      <td>1986.0</td>\n",
       "      <td>8.000000</td>\n",
       "      <td>Gd</td>\n",
       "      <td>Gd</td>\n",
       "      <td>18044.000000</td>\n",
       "      <td>315000.000000</td>\n",
       "      <td>17.457327</td>\n",
       "      <td>0.000000</td>\n",
       "    </tr>\n",
       "  </tbody>\n",
       "</table>\n",
       "</div>"
      ],
      "text/plain": [
       "         Number of Houses  Median Year Built  Mean Overall Quality  \\\n",
       "StoneBr                 3             2003.0              8.333333   \n",
       "Gilbert                 6             2003.0              8.000000   \n",
       "NridgHt                19             2005.0              8.263158   \n",
       "NoRidge                12             1994.0              8.166667   \n",
       "Somerst                17             2006.0              8.117647   \n",
       "CollgCr                21             2002.0              8.047619   \n",
       "Timber                 14             2005.5              8.142857   \n",
       "SawyerW                 4             1994.0              8.000000   \n",
       "Veenker                 9             1980.0              8.222222   \n",
       "NWAmes                  1             1996.0              8.000000   \n",
       "Edwards                 3             2008.0             10.000000   \n",
       "Mitchel                 1             2002.0              8.000000   \n",
       "ClearCr                 1             1976.0              8.000000   \n",
       "Crawfor                 1             1986.0              8.000000   \n",
       "\n",
       "        Modal Kitchen Quality Modal Exter Quality  Mean Lot Area  \\\n",
       "StoneBr                    Gd                  Ex   39528.666667   \n",
       "Gilbert                    Gd                  Gd   11672.333333   \n",
       "NridgHt                    Gd                  Gd   15466.157895   \n",
       "NoRidge                    Gd                  Gd   18624.583333   \n",
       "Somerst                    Gd                  Gd   12867.823529   \n",
       "CollgCr                    Gd                  Gd   12782.809524   \n",
       "Timber                     Gd                  Gd   13445.214286   \n",
       "SawyerW                    Gd                  Gd   10297.500000   \n",
       "Veenker                    Gd                  Gd   19433.111111   \n",
       "NWAmes                     Gd                  Gd   14311.000000   \n",
       "Edwards                    Ex                  Ex   47757.000000   \n",
       "Mitchel                    Gd                  Gd   13265.000000   \n",
       "ClearCr                    Gd                  Gd   20064.000000   \n",
       "Crawfor                    Gd                  Gd   18044.000000   \n",
       "\n",
       "         Mean Sale Price  Mean Price per Area  Deviation in Price per Area  \n",
       "StoneBr    466529.000000            14.011932                     4.390784  \n",
       "Gilbert    223000.000000            19.160525                     1.920681  \n",
       "NridgHt    302021.368421            19.692874                     1.994279  \n",
       "NoRidge    324170.833333            19.200591                     2.829039  \n",
       "Somerst    256204.647059            19.868429                     1.358809  \n",
       "CollgCr    241956.190476            19.207571                     2.119454  \n",
       "Timber     264538.714286            19.939039                     2.300928  \n",
       "SawyerW    215750.000000            21.018843                     1.188072  \n",
       "Veenker    270583.333333            16.295566                     4.184029  \n",
       "NWAmes     306000.000000            21.382154                     0.000000  \n",
       "Edwards    176200.000000             3.930550                     0.950752  \n",
       "Mitchel    271000.000000            20.429702                     0.000000  \n",
       "ClearCr    279000.000000            13.905502                     0.000000  \n",
       "Crawfor    315000.000000            17.457327                     0.000000  "
      ]
     },
     "execution_count": 164,
     "metadata": {},
     "output_type": "execute_result"
    }
   ],
   "source": [
    "# Viewing a summary of the relevant values for each neighbourhood using the data frame \"nbd\"\n",
    "nbd"
   ]
  },
  {
   "cell_type": "markdown",
   "metadata": {},
   "source": [
    "----------------------"
   ]
  },
  {
   "cell_type": "markdown",
   "metadata": {},
   "source": [
    "# Task 6 - Sorting the resulting summary of the neighbourhoods based on the price per area and recommend the top three neighbourhoods."
   ]
  },
  {
   "cell_type": "code",
   "execution_count": 165,
   "metadata": {},
   "outputs": [
    {
     "data": {
      "text/html": [
       "<div>\n",
       "<style scoped>\n",
       "    .dataframe tbody tr th:only-of-type {\n",
       "        vertical-align: middle;\n",
       "    }\n",
       "\n",
       "    .dataframe tbody tr th {\n",
       "        vertical-align: top;\n",
       "    }\n",
       "\n",
       "    .dataframe thead th {\n",
       "        text-align: right;\n",
       "    }\n",
       "</style>\n",
       "<table border=\"1\" class=\"dataframe\">\n",
       "  <thead>\n",
       "    <tr style=\"text-align: right;\">\n",
       "      <th></th>\n",
       "      <th>Number of Houses</th>\n",
       "      <th>Median Year Built</th>\n",
       "      <th>Mean Overall Quality</th>\n",
       "      <th>Modal Kitchen Quality</th>\n",
       "      <th>Modal Exter Quality</th>\n",
       "      <th>Mean Lot Area</th>\n",
       "      <th>Mean Sale Price</th>\n",
       "      <th>Mean Price per Area</th>\n",
       "      <th>Deviation in Price per Area</th>\n",
       "    </tr>\n",
       "  </thead>\n",
       "  <tbody>\n",
       "    <tr>\n",
       "      <th>StoneBr</th>\n",
       "      <td>3</td>\n",
       "      <td>2003.0</td>\n",
       "      <td>8.333333</td>\n",
       "      <td>Gd</td>\n",
       "      <td>Ex</td>\n",
       "      <td>39528.666667</td>\n",
       "      <td>466529.000000</td>\n",
       "      <td>14.011932</td>\n",
       "      <td>4.390784</td>\n",
       "    </tr>\n",
       "    <tr>\n",
       "      <th>Gilbert</th>\n",
       "      <td>6</td>\n",
       "      <td>2003.0</td>\n",
       "      <td>8.000000</td>\n",
       "      <td>Gd</td>\n",
       "      <td>Gd</td>\n",
       "      <td>11672.333333</td>\n",
       "      <td>223000.000000</td>\n",
       "      <td>19.160525</td>\n",
       "      <td>1.920681</td>\n",
       "    </tr>\n",
       "    <tr>\n",
       "      <th>NridgHt</th>\n",
       "      <td>19</td>\n",
       "      <td>2005.0</td>\n",
       "      <td>8.263158</td>\n",
       "      <td>Gd</td>\n",
       "      <td>Gd</td>\n",
       "      <td>15466.157895</td>\n",
       "      <td>302021.368421</td>\n",
       "      <td>19.692874</td>\n",
       "      <td>1.994279</td>\n",
       "    </tr>\n",
       "    <tr>\n",
       "      <th>NoRidge</th>\n",
       "      <td>12</td>\n",
       "      <td>1994.0</td>\n",
       "      <td>8.166667</td>\n",
       "      <td>Gd</td>\n",
       "      <td>Gd</td>\n",
       "      <td>18624.583333</td>\n",
       "      <td>324170.833333</td>\n",
       "      <td>19.200591</td>\n",
       "      <td>2.829039</td>\n",
       "    </tr>\n",
       "    <tr>\n",
       "      <th>Somerst</th>\n",
       "      <td>17</td>\n",
       "      <td>2006.0</td>\n",
       "      <td>8.117647</td>\n",
       "      <td>Gd</td>\n",
       "      <td>Gd</td>\n",
       "      <td>12867.823529</td>\n",
       "      <td>256204.647059</td>\n",
       "      <td>19.868429</td>\n",
       "      <td>1.358809</td>\n",
       "    </tr>\n",
       "    <tr>\n",
       "      <th>CollgCr</th>\n",
       "      <td>21</td>\n",
       "      <td>2002.0</td>\n",
       "      <td>8.047619</td>\n",
       "      <td>Gd</td>\n",
       "      <td>Gd</td>\n",
       "      <td>12782.809524</td>\n",
       "      <td>241956.190476</td>\n",
       "      <td>19.207571</td>\n",
       "      <td>2.119454</td>\n",
       "    </tr>\n",
       "    <tr>\n",
       "      <th>Timber</th>\n",
       "      <td>14</td>\n",
       "      <td>2005.5</td>\n",
       "      <td>8.142857</td>\n",
       "      <td>Gd</td>\n",
       "      <td>Gd</td>\n",
       "      <td>13445.214286</td>\n",
       "      <td>264538.714286</td>\n",
       "      <td>19.939039</td>\n",
       "      <td>2.300928</td>\n",
       "    </tr>\n",
       "    <tr>\n",
       "      <th>SawyerW</th>\n",
       "      <td>4</td>\n",
       "      <td>1994.0</td>\n",
       "      <td>8.000000</td>\n",
       "      <td>Gd</td>\n",
       "      <td>Gd</td>\n",
       "      <td>10297.500000</td>\n",
       "      <td>215750.000000</td>\n",
       "      <td>21.018843</td>\n",
       "      <td>1.188072</td>\n",
       "    </tr>\n",
       "    <tr>\n",
       "      <th>Veenker</th>\n",
       "      <td>9</td>\n",
       "      <td>1980.0</td>\n",
       "      <td>8.222222</td>\n",
       "      <td>Gd</td>\n",
       "      <td>Gd</td>\n",
       "      <td>19433.111111</td>\n",
       "      <td>270583.333333</td>\n",
       "      <td>16.295566</td>\n",
       "      <td>4.184029</td>\n",
       "    </tr>\n",
       "    <tr>\n",
       "      <th>Edwards</th>\n",
       "      <td>3</td>\n",
       "      <td>2008.0</td>\n",
       "      <td>10.000000</td>\n",
       "      <td>Ex</td>\n",
       "      <td>Ex</td>\n",
       "      <td>47757.000000</td>\n",
       "      <td>176200.000000</td>\n",
       "      <td>3.930550</td>\n",
       "      <td>0.950752</td>\n",
       "    </tr>\n",
       "  </tbody>\n",
       "</table>\n",
       "</div>"
      ],
      "text/plain": [
       "         Number of Houses  Median Year Built  Mean Overall Quality  \\\n",
       "StoneBr                 3             2003.0              8.333333   \n",
       "Gilbert                 6             2003.0              8.000000   \n",
       "NridgHt                19             2005.0              8.263158   \n",
       "NoRidge                12             1994.0              8.166667   \n",
       "Somerst                17             2006.0              8.117647   \n",
       "CollgCr                21             2002.0              8.047619   \n",
       "Timber                 14             2005.5              8.142857   \n",
       "SawyerW                 4             1994.0              8.000000   \n",
       "Veenker                 9             1980.0              8.222222   \n",
       "Edwards                 3             2008.0             10.000000   \n",
       "\n",
       "        Modal Kitchen Quality Modal Exter Quality  Mean Lot Area  \\\n",
       "StoneBr                    Gd                  Ex   39528.666667   \n",
       "Gilbert                    Gd                  Gd   11672.333333   \n",
       "NridgHt                    Gd                  Gd   15466.157895   \n",
       "NoRidge                    Gd                  Gd   18624.583333   \n",
       "Somerst                    Gd                  Gd   12867.823529   \n",
       "CollgCr                    Gd                  Gd   12782.809524   \n",
       "Timber                     Gd                  Gd   13445.214286   \n",
       "SawyerW                    Gd                  Gd   10297.500000   \n",
       "Veenker                    Gd                  Gd   19433.111111   \n",
       "Edwards                    Ex                  Ex   47757.000000   \n",
       "\n",
       "         Mean Sale Price  Mean Price per Area  Deviation in Price per Area  \n",
       "StoneBr    466529.000000            14.011932                     4.390784  \n",
       "Gilbert    223000.000000            19.160525                     1.920681  \n",
       "NridgHt    302021.368421            19.692874                     1.994279  \n",
       "NoRidge    324170.833333            19.200591                     2.829039  \n",
       "Somerst    256204.647059            19.868429                     1.358809  \n",
       "CollgCr    241956.190476            19.207571                     2.119454  \n",
       "Timber     264538.714286            19.939039                     2.300928  \n",
       "SawyerW    215750.000000            21.018843                     1.188072  \n",
       "Veenker    270583.333333            16.295566                     4.184029  \n",
       "Edwards    176200.000000             3.930550                     0.950752  "
      ]
     },
     "execution_count": 165,
     "metadata": {},
     "output_type": "execute_result"
    }
   ],
   "source": [
    "# Retaining only those neighbourhoods that have more than one house\n",
    "nbd = nbd[nbd['Number of Houses'] > 1]\n",
    "\n",
    "nbd"
   ]
  },
  {
   "cell_type": "code",
   "execution_count": 166,
   "metadata": {},
   "outputs": [
    {
     "data": {
      "text/html": [
       "<div>\n",
       "<style scoped>\n",
       "    .dataframe tbody tr th:only-of-type {\n",
       "        vertical-align: middle;\n",
       "    }\n",
       "\n",
       "    .dataframe tbody tr th {\n",
       "        vertical-align: top;\n",
       "    }\n",
       "\n",
       "    .dataframe thead th {\n",
       "        text-align: right;\n",
       "    }\n",
       "</style>\n",
       "<table border=\"1\" class=\"dataframe\">\n",
       "  <thead>\n",
       "    <tr style=\"text-align: right;\">\n",
       "      <th></th>\n",
       "      <th>Number of Houses</th>\n",
       "      <th>Median Year Built</th>\n",
       "      <th>Mean Overall Quality</th>\n",
       "      <th>Modal Kitchen Quality</th>\n",
       "      <th>Modal Exter Quality</th>\n",
       "      <th>Mean Lot Area</th>\n",
       "      <th>Mean Sale Price</th>\n",
       "      <th>Mean Price per Area</th>\n",
       "      <th>Deviation in Price per Area</th>\n",
       "    </tr>\n",
       "  </thead>\n",
       "  <tbody>\n",
       "    <tr>\n",
       "      <th>Edwards</th>\n",
       "      <td>3</td>\n",
       "      <td>2008.0</td>\n",
       "      <td>10.000000</td>\n",
       "      <td>Ex</td>\n",
       "      <td>Ex</td>\n",
       "      <td>47757.000000</td>\n",
       "      <td>176200.000000</td>\n",
       "      <td>3.930550</td>\n",
       "      <td>0.950752</td>\n",
       "    </tr>\n",
       "    <tr>\n",
       "      <th>StoneBr</th>\n",
       "      <td>3</td>\n",
       "      <td>2003.0</td>\n",
       "      <td>8.333333</td>\n",
       "      <td>Gd</td>\n",
       "      <td>Ex</td>\n",
       "      <td>39528.666667</td>\n",
       "      <td>466529.000000</td>\n",
       "      <td>14.011932</td>\n",
       "      <td>4.390784</td>\n",
       "    </tr>\n",
       "    <tr>\n",
       "      <th>Veenker</th>\n",
       "      <td>9</td>\n",
       "      <td>1980.0</td>\n",
       "      <td>8.222222</td>\n",
       "      <td>Gd</td>\n",
       "      <td>Gd</td>\n",
       "      <td>19433.111111</td>\n",
       "      <td>270583.333333</td>\n",
       "      <td>16.295566</td>\n",
       "      <td>4.184029</td>\n",
       "    </tr>\n",
       "    <tr>\n",
       "      <th>Gilbert</th>\n",
       "      <td>6</td>\n",
       "      <td>2003.0</td>\n",
       "      <td>8.000000</td>\n",
       "      <td>Gd</td>\n",
       "      <td>Gd</td>\n",
       "      <td>11672.333333</td>\n",
       "      <td>223000.000000</td>\n",
       "      <td>19.160525</td>\n",
       "      <td>1.920681</td>\n",
       "    </tr>\n",
       "    <tr>\n",
       "      <th>NoRidge</th>\n",
       "      <td>12</td>\n",
       "      <td>1994.0</td>\n",
       "      <td>8.166667</td>\n",
       "      <td>Gd</td>\n",
       "      <td>Gd</td>\n",
       "      <td>18624.583333</td>\n",
       "      <td>324170.833333</td>\n",
       "      <td>19.200591</td>\n",
       "      <td>2.829039</td>\n",
       "    </tr>\n",
       "    <tr>\n",
       "      <th>CollgCr</th>\n",
       "      <td>21</td>\n",
       "      <td>2002.0</td>\n",
       "      <td>8.047619</td>\n",
       "      <td>Gd</td>\n",
       "      <td>Gd</td>\n",
       "      <td>12782.809524</td>\n",
       "      <td>241956.190476</td>\n",
       "      <td>19.207571</td>\n",
       "      <td>2.119454</td>\n",
       "    </tr>\n",
       "    <tr>\n",
       "      <th>NridgHt</th>\n",
       "      <td>19</td>\n",
       "      <td>2005.0</td>\n",
       "      <td>8.263158</td>\n",
       "      <td>Gd</td>\n",
       "      <td>Gd</td>\n",
       "      <td>15466.157895</td>\n",
       "      <td>302021.368421</td>\n",
       "      <td>19.692874</td>\n",
       "      <td>1.994279</td>\n",
       "    </tr>\n",
       "    <tr>\n",
       "      <th>Somerst</th>\n",
       "      <td>17</td>\n",
       "      <td>2006.0</td>\n",
       "      <td>8.117647</td>\n",
       "      <td>Gd</td>\n",
       "      <td>Gd</td>\n",
       "      <td>12867.823529</td>\n",
       "      <td>256204.647059</td>\n",
       "      <td>19.868429</td>\n",
       "      <td>1.358809</td>\n",
       "    </tr>\n",
       "    <tr>\n",
       "      <th>Timber</th>\n",
       "      <td>14</td>\n",
       "      <td>2005.5</td>\n",
       "      <td>8.142857</td>\n",
       "      <td>Gd</td>\n",
       "      <td>Gd</td>\n",
       "      <td>13445.214286</td>\n",
       "      <td>264538.714286</td>\n",
       "      <td>19.939039</td>\n",
       "      <td>2.300928</td>\n",
       "    </tr>\n",
       "    <tr>\n",
       "      <th>SawyerW</th>\n",
       "      <td>4</td>\n",
       "      <td>1994.0</td>\n",
       "      <td>8.000000</td>\n",
       "      <td>Gd</td>\n",
       "      <td>Gd</td>\n",
       "      <td>10297.500000</td>\n",
       "      <td>215750.000000</td>\n",
       "      <td>21.018843</td>\n",
       "      <td>1.188072</td>\n",
       "    </tr>\n",
       "  </tbody>\n",
       "</table>\n",
       "</div>"
      ],
      "text/plain": [
       "         Number of Houses  Median Year Built  Mean Overall Quality  \\\n",
       "Edwards                 3             2008.0             10.000000   \n",
       "StoneBr                 3             2003.0              8.333333   \n",
       "Veenker                 9             1980.0              8.222222   \n",
       "Gilbert                 6             2003.0              8.000000   \n",
       "NoRidge                12             1994.0              8.166667   \n",
       "CollgCr                21             2002.0              8.047619   \n",
       "NridgHt                19             2005.0              8.263158   \n",
       "Somerst                17             2006.0              8.117647   \n",
       "Timber                 14             2005.5              8.142857   \n",
       "SawyerW                 4             1994.0              8.000000   \n",
       "\n",
       "        Modal Kitchen Quality Modal Exter Quality  Mean Lot Area  \\\n",
       "Edwards                    Ex                  Ex   47757.000000   \n",
       "StoneBr                    Gd                  Ex   39528.666667   \n",
       "Veenker                    Gd                  Gd   19433.111111   \n",
       "Gilbert                    Gd                  Gd   11672.333333   \n",
       "NoRidge                    Gd                  Gd   18624.583333   \n",
       "CollgCr                    Gd                  Gd   12782.809524   \n",
       "NridgHt                    Gd                  Gd   15466.157895   \n",
       "Somerst                    Gd                  Gd   12867.823529   \n",
       "Timber                     Gd                  Gd   13445.214286   \n",
       "SawyerW                    Gd                  Gd   10297.500000   \n",
       "\n",
       "         Mean Sale Price  Mean Price per Area  Deviation in Price per Area  \n",
       "Edwards    176200.000000             3.930550                     0.950752  \n",
       "StoneBr    466529.000000            14.011932                     4.390784  \n",
       "Veenker    270583.333333            16.295566                     4.184029  \n",
       "Gilbert    223000.000000            19.160525                     1.920681  \n",
       "NoRidge    324170.833333            19.200591                     2.829039  \n",
       "CollgCr    241956.190476            19.207571                     2.119454  \n",
       "NridgHt    302021.368421            19.692874                     1.994279  \n",
       "Somerst    256204.647059            19.868429                     1.358809  \n",
       "Timber     264538.714286            19.939039                     2.300928  \n",
       "SawyerW    215750.000000            21.018843                     1.188072  "
      ]
     },
     "execution_count": 166,
     "metadata": {},
     "output_type": "execute_result"
    }
   ],
   "source": [
    "# Sorting the data frame \"nbd\" based on the \"Mean Price per Area\" feature\n",
    "nbd.sort_values(by = 'Mean Price per Area', ascending = True)"
   ]
  },
  {
   "cell_type": "code",
   "execution_count": 167,
   "metadata": {},
   "outputs": [
    {
     "data": {
      "text/html": [
       "<div>\n",
       "<style scoped>\n",
       "    .dataframe tbody tr th:only-of-type {\n",
       "        vertical-align: middle;\n",
       "    }\n",
       "\n",
       "    .dataframe tbody tr th {\n",
       "        vertical-align: top;\n",
       "    }\n",
       "\n",
       "    .dataframe thead th {\n",
       "        text-align: right;\n",
       "    }\n",
       "</style>\n",
       "<table border=\"1\" class=\"dataframe\">\n",
       "  <thead>\n",
       "    <tr style=\"text-align: right;\">\n",
       "      <th></th>\n",
       "      <th>Number of Houses</th>\n",
       "      <th>Median Year Built</th>\n",
       "      <th>Mean Overall Quality</th>\n",
       "      <th>Modal Kitchen Quality</th>\n",
       "      <th>Modal Exter Quality</th>\n",
       "      <th>Mean Lot Area</th>\n",
       "      <th>Mean Sale Price</th>\n",
       "      <th>Mean Price per Area</th>\n",
       "      <th>Deviation in Price per Area</th>\n",
       "    </tr>\n",
       "  </thead>\n",
       "  <tbody>\n",
       "    <tr>\n",
       "      <th>Edwards</th>\n",
       "      <td>3</td>\n",
       "      <td>2008.0</td>\n",
       "      <td>10.000000</td>\n",
       "      <td>Ex</td>\n",
       "      <td>Ex</td>\n",
       "      <td>47757.000000</td>\n",
       "      <td>176200.000000</td>\n",
       "      <td>3.930550</td>\n",
       "      <td>0.950752</td>\n",
       "    </tr>\n",
       "    <tr>\n",
       "      <th>SawyerW</th>\n",
       "      <td>4</td>\n",
       "      <td>1994.0</td>\n",
       "      <td>8.000000</td>\n",
       "      <td>Gd</td>\n",
       "      <td>Gd</td>\n",
       "      <td>10297.500000</td>\n",
       "      <td>215750.000000</td>\n",
       "      <td>21.018843</td>\n",
       "      <td>1.188072</td>\n",
       "    </tr>\n",
       "    <tr>\n",
       "      <th>Somerst</th>\n",
       "      <td>17</td>\n",
       "      <td>2006.0</td>\n",
       "      <td>8.117647</td>\n",
       "      <td>Gd</td>\n",
       "      <td>Gd</td>\n",
       "      <td>12867.823529</td>\n",
       "      <td>256204.647059</td>\n",
       "      <td>19.868429</td>\n",
       "      <td>1.358809</td>\n",
       "    </tr>\n",
       "    <tr>\n",
       "      <th>Gilbert</th>\n",
       "      <td>6</td>\n",
       "      <td>2003.0</td>\n",
       "      <td>8.000000</td>\n",
       "      <td>Gd</td>\n",
       "      <td>Gd</td>\n",
       "      <td>11672.333333</td>\n",
       "      <td>223000.000000</td>\n",
       "      <td>19.160525</td>\n",
       "      <td>1.920681</td>\n",
       "    </tr>\n",
       "    <tr>\n",
       "      <th>NridgHt</th>\n",
       "      <td>19</td>\n",
       "      <td>2005.0</td>\n",
       "      <td>8.263158</td>\n",
       "      <td>Gd</td>\n",
       "      <td>Gd</td>\n",
       "      <td>15466.157895</td>\n",
       "      <td>302021.368421</td>\n",
       "      <td>19.692874</td>\n",
       "      <td>1.994279</td>\n",
       "    </tr>\n",
       "    <tr>\n",
       "      <th>CollgCr</th>\n",
       "      <td>21</td>\n",
       "      <td>2002.0</td>\n",
       "      <td>8.047619</td>\n",
       "      <td>Gd</td>\n",
       "      <td>Gd</td>\n",
       "      <td>12782.809524</td>\n",
       "      <td>241956.190476</td>\n",
       "      <td>19.207571</td>\n",
       "      <td>2.119454</td>\n",
       "    </tr>\n",
       "    <tr>\n",
       "      <th>Timber</th>\n",
       "      <td>14</td>\n",
       "      <td>2005.5</td>\n",
       "      <td>8.142857</td>\n",
       "      <td>Gd</td>\n",
       "      <td>Gd</td>\n",
       "      <td>13445.214286</td>\n",
       "      <td>264538.714286</td>\n",
       "      <td>19.939039</td>\n",
       "      <td>2.300928</td>\n",
       "    </tr>\n",
       "    <tr>\n",
       "      <th>NoRidge</th>\n",
       "      <td>12</td>\n",
       "      <td>1994.0</td>\n",
       "      <td>8.166667</td>\n",
       "      <td>Gd</td>\n",
       "      <td>Gd</td>\n",
       "      <td>18624.583333</td>\n",
       "      <td>324170.833333</td>\n",
       "      <td>19.200591</td>\n",
       "      <td>2.829039</td>\n",
       "    </tr>\n",
       "    <tr>\n",
       "      <th>Veenker</th>\n",
       "      <td>9</td>\n",
       "      <td>1980.0</td>\n",
       "      <td>8.222222</td>\n",
       "      <td>Gd</td>\n",
       "      <td>Gd</td>\n",
       "      <td>19433.111111</td>\n",
       "      <td>270583.333333</td>\n",
       "      <td>16.295566</td>\n",
       "      <td>4.184029</td>\n",
       "    </tr>\n",
       "    <tr>\n",
       "      <th>StoneBr</th>\n",
       "      <td>3</td>\n",
       "      <td>2003.0</td>\n",
       "      <td>8.333333</td>\n",
       "      <td>Gd</td>\n",
       "      <td>Ex</td>\n",
       "      <td>39528.666667</td>\n",
       "      <td>466529.000000</td>\n",
       "      <td>14.011932</td>\n",
       "      <td>4.390784</td>\n",
       "    </tr>\n",
       "  </tbody>\n",
       "</table>\n",
       "</div>"
      ],
      "text/plain": [
       "         Number of Houses  Median Year Built  Mean Overall Quality  \\\n",
       "Edwards                 3             2008.0             10.000000   \n",
       "SawyerW                 4             1994.0              8.000000   \n",
       "Somerst                17             2006.0              8.117647   \n",
       "Gilbert                 6             2003.0              8.000000   \n",
       "NridgHt                19             2005.0              8.263158   \n",
       "CollgCr                21             2002.0              8.047619   \n",
       "Timber                 14             2005.5              8.142857   \n",
       "NoRidge                12             1994.0              8.166667   \n",
       "Veenker                 9             1980.0              8.222222   \n",
       "StoneBr                 3             2003.0              8.333333   \n",
       "\n",
       "        Modal Kitchen Quality Modal Exter Quality  Mean Lot Area  \\\n",
       "Edwards                    Ex                  Ex   47757.000000   \n",
       "SawyerW                    Gd                  Gd   10297.500000   \n",
       "Somerst                    Gd                  Gd   12867.823529   \n",
       "Gilbert                    Gd                  Gd   11672.333333   \n",
       "NridgHt                    Gd                  Gd   15466.157895   \n",
       "CollgCr                    Gd                  Gd   12782.809524   \n",
       "Timber                     Gd                  Gd   13445.214286   \n",
       "NoRidge                    Gd                  Gd   18624.583333   \n",
       "Veenker                    Gd                  Gd   19433.111111   \n",
       "StoneBr                    Gd                  Ex   39528.666667   \n",
       "\n",
       "         Mean Sale Price  Mean Price per Area  Deviation in Price per Area  \n",
       "Edwards    176200.000000             3.930550                     0.950752  \n",
       "SawyerW    215750.000000            21.018843                     1.188072  \n",
       "Somerst    256204.647059            19.868429                     1.358809  \n",
       "Gilbert    223000.000000            19.160525                     1.920681  \n",
       "NridgHt    302021.368421            19.692874                     1.994279  \n",
       "CollgCr    241956.190476            19.207571                     2.119454  \n",
       "Timber     264538.714286            19.939039                     2.300928  \n",
       "NoRidge    324170.833333            19.200591                     2.829039  \n",
       "Veenker    270583.333333            16.295566                     4.184029  \n",
       "StoneBr    466529.000000            14.011932                     4.390784  "
      ]
     },
     "execution_count": 167,
     "metadata": {},
     "output_type": "execute_result"
    }
   ],
   "source": [
    "# Sorting the data frame \"nbd\" based on the \"Deviation in Price per Area\" feature\n",
    "nbd.sort_values(by = 'Deviation in Price per Area', ascending = True)"
   ]
  },
  {
   "cell_type": "markdown",
   "metadata": {},
   "source": [
    "------------------------------------"
   ]
  },
  {
   "cell_type": "markdown",
   "metadata": {},
   "source": [
    "#### Getting the top three neighbourhoods in which to invest based on \"Price per Area\" and \"Deviation in Price per Area\""
   ]
  },
  {
   "cell_type": "code",
   "execution_count": 168,
   "metadata": {},
   "outputs": [
    {
     "data": {
      "text/html": [
       "<div>\n",
       "<style scoped>\n",
       "    .dataframe tbody tr th:only-of-type {\n",
       "        vertical-align: middle;\n",
       "    }\n",
       "\n",
       "    .dataframe tbody tr th {\n",
       "        vertical-align: top;\n",
       "    }\n",
       "\n",
       "    .dataframe thead th {\n",
       "        text-align: right;\n",
       "    }\n",
       "</style>\n",
       "<table border=\"1\" class=\"dataframe\">\n",
       "  <thead>\n",
       "    <tr style=\"text-align: right;\">\n",
       "      <th></th>\n",
       "      <th>Number of Houses</th>\n",
       "      <th>Median Year Built</th>\n",
       "      <th>Mean Overall Quality</th>\n",
       "      <th>Modal Kitchen Quality</th>\n",
       "      <th>Modal Exter Quality</th>\n",
       "      <th>Mean Lot Area</th>\n",
       "      <th>Mean Sale Price</th>\n",
       "      <th>Mean Price per Area</th>\n",
       "      <th>Deviation in Price per Area</th>\n",
       "    </tr>\n",
       "  </thead>\n",
       "  <tbody>\n",
       "    <tr>\n",
       "      <th>Gilbert</th>\n",
       "      <td>6</td>\n",
       "      <td>2003.0</td>\n",
       "      <td>8.0</td>\n",
       "      <td>Gd</td>\n",
       "      <td>Gd</td>\n",
       "      <td>11672.333333</td>\n",
       "      <td>223000.0</td>\n",
       "      <td>19.160525</td>\n",
       "      <td>1.920681</td>\n",
       "    </tr>\n",
       "    <tr>\n",
       "      <th>Edwards</th>\n",
       "      <td>3</td>\n",
       "      <td>2008.0</td>\n",
       "      <td>10.0</td>\n",
       "      <td>Ex</td>\n",
       "      <td>Ex</td>\n",
       "      <td>47757.000000</td>\n",
       "      <td>176200.0</td>\n",
       "      <td>3.930550</td>\n",
       "      <td>0.950752</td>\n",
       "    </tr>\n",
       "  </tbody>\n",
       "</table>\n",
       "</div>"
      ],
      "text/plain": [
       "         Number of Houses  Median Year Built  Mean Overall Quality  \\\n",
       "Gilbert                 6             2003.0                   8.0   \n",
       "Edwards                 3             2008.0                  10.0   \n",
       "\n",
       "        Modal Kitchen Quality Modal Exter Quality  Mean Lot Area  \\\n",
       "Gilbert                    Gd                  Gd   11672.333333   \n",
       "Edwards                    Ex                  Ex   47757.000000   \n",
       "\n",
       "         Mean Sale Price  Mean Price per Area  Deviation in Price per Area  \n",
       "Gilbert         223000.0            19.160525                     1.920681  \n",
       "Edwards         176200.0             3.930550                     0.950752  "
      ]
     },
     "execution_count": 168,
     "metadata": {},
     "output_type": "execute_result"
    }
   ],
   "source": [
    "# Getting the top three neighbourhoods in which to invest based on \"Price per Area\" and \"Deviation in Price per Area\"\n",
    "nbd[(nbd['Mean Price per Area'] < nbd['Mean Price per Area'].median()) & (nbd['Deviation in Price per Area'] < nbd['Deviation in Price per Area'].median())].head(3)"
   ]
  },
  {
   "cell_type": "markdown",
   "metadata": {},
   "source": [
    "-------------------------------"
   ]
  },
  {
   "cell_type": "markdown",
   "metadata": {},
   "source": [
    "# Result(Solution)"
   ]
  },
  {
   "cell_type": "code",
   "execution_count": 169,
   "metadata": {},
   "outputs": [
    {
     "data": {
      "text/html": [
       "<div>\n",
       "<style scoped>\n",
       "    .dataframe tbody tr th:only-of-type {\n",
       "        vertical-align: middle;\n",
       "    }\n",
       "\n",
       "    .dataframe tbody tr th {\n",
       "        vertical-align: top;\n",
       "    }\n",
       "\n",
       "    .dataframe thead th {\n",
       "        text-align: right;\n",
       "    }\n",
       "</style>\n",
       "<table border=\"1\" class=\"dataframe\">\n",
       "  <thead>\n",
       "    <tr style=\"text-align: right;\">\n",
       "      <th></th>\n",
       "      <th>Number of Houses</th>\n",
       "      <th>Median Year Built</th>\n",
       "      <th>Mean Overall Quality</th>\n",
       "      <th>Modal Kitchen Quality</th>\n",
       "      <th>Modal Exter Quality</th>\n",
       "      <th>Mean Lot Area</th>\n",
       "      <th>Mean Sale Price</th>\n",
       "      <th>Mean Price per Area</th>\n",
       "      <th>Deviation in Price per Area</th>\n",
       "    </tr>\n",
       "  </thead>\n",
       "  <tbody>\n",
       "    <tr>\n",
       "      <th>Gilbert</th>\n",
       "      <td>6</td>\n",
       "      <td>2003.0</td>\n",
       "      <td>8.000000</td>\n",
       "      <td>Gd</td>\n",
       "      <td>Gd</td>\n",
       "      <td>11672.333333</td>\n",
       "      <td>223000.000000</td>\n",
       "      <td>19.160525</td>\n",
       "      <td>1.920681</td>\n",
       "    </tr>\n",
       "    <tr>\n",
       "      <th>NridgHt</th>\n",
       "      <td>19</td>\n",
       "      <td>2005.0</td>\n",
       "      <td>8.263158</td>\n",
       "      <td>Gd</td>\n",
       "      <td>Gd</td>\n",
       "      <td>15466.157895</td>\n",
       "      <td>302021.368421</td>\n",
       "      <td>19.692874</td>\n",
       "      <td>1.994279</td>\n",
       "    </tr>\n",
       "    <tr>\n",
       "      <th>Somerst</th>\n",
       "      <td>17</td>\n",
       "      <td>2006.0</td>\n",
       "      <td>8.117647</td>\n",
       "      <td>Gd</td>\n",
       "      <td>Gd</td>\n",
       "      <td>12867.823529</td>\n",
       "      <td>256204.647059</td>\n",
       "      <td>19.868429</td>\n",
       "      <td>1.358809</td>\n",
       "    </tr>\n",
       "  </tbody>\n",
       "</table>\n",
       "</div>"
      ],
      "text/plain": [
       "         Number of Houses  Median Year Built  Mean Overall Quality  \\\n",
       "Gilbert                 6             2003.0              8.000000   \n",
       "NridgHt                19             2005.0              8.263158   \n",
       "Somerst                17             2006.0              8.117647   \n",
       "\n",
       "        Modal Kitchen Quality Modal Exter Quality  Mean Lot Area  \\\n",
       "Gilbert                    Gd                  Gd   11672.333333   \n",
       "NridgHt                    Gd                  Gd   15466.157895   \n",
       "Somerst                    Gd                  Gd   12867.823529   \n",
       "\n",
       "         Mean Sale Price  Mean Price per Area  Deviation in Price per Area  \n",
       "Gilbert    223000.000000            19.160525                     1.920681  \n",
       "NridgHt    302021.368421            19.692874                     1.994279  \n",
       "Somerst    256204.647059            19.868429                     1.358809  "
      ]
     },
     "execution_count": 169,
     "metadata": {},
     "output_type": "execute_result"
    }
   ],
   "source": [
    "# Getting the top three neighbourhoods in which to invest based on \"Price per Area\" and \"Deviation in Price per Area\"\n",
    "# Considering neighbourhoods with \"Mean Price per Area\" less than 20 dollars per square feet\n",
    "# Considering neighbourhoods with \"Deviation in Price per Area\" less than 2 dollars per square feet\n",
    "nbd[(nbd['Mean Price per Area'] < 20) & (nbd['Deviation in Price per Area'] < 2)].head(3)"
   ]
  },
  {
   "cell_type": "markdown",
   "metadata": {},
   "source": [
    "### Three neighbourhoods were narrowed down according to the criteria such as maximum quality and quantity with the least price as well as the least variations of prices.\n",
    "\n",
    "##### 1) Gilbert\n",
    "##### 2) NridgHt\n",
    "##### 3) Somerst"
   ]
  },
  {
   "cell_type": "markdown",
   "metadata": {},
   "source": [
    "-------------------"
   ]
  },
  {
   "cell_type": "markdown",
   "metadata": {},
   "source": [
    "# Task 7 - Project Summary"
   ]
  },
  {
   "cell_type": "markdown",
   "metadata": {},
   "source": [
    "Let’s summarise the complete solution in sequential stages:\n",
    "\n",
    "##### Stage 1: \n",
    "\n",
    "1) we loaded the data and studied its description.\n",
    "\n",
    "2) The original data frame has 2,930 properties and seven features (excluding the Property IDs, which are used as the row indices).\n",
    "\n",
    "3) we also learnt that the data set has no missing values.\n",
    "\n",
    "\n",
    "##### Stage 2: \n",
    "\n",
    "1) Using a count plot, we noticed that neighbourhoods such as ‘NAmes’ and ‘CollgCr’ have the maximum number of houses, and neighbourhoods such as ‘Landmrk’ and ‘GrnHill’ have the least number of houses.\n",
    "\n",
    "2) Next, we studied the histogram of the ‘Year Built’ feature and learnt that the mean and the median of this feature were approximately 1,970.\n",
    "\n",
    "3) we also observed a spike for the years around 2010. So, we considered using the median of the ‘Year Built’ feature to retain those properties in the data frame that were constructed relatively recently.\n",
    "\n",
    "4) we then analysed the ‘SalePrice’ and ‘Lot Area’ features using their histograms. we observed that the prices of most of the houses were approximately 1,50,000 dollar and lot areas of approximately 10,000 square feet.\n",
    "\n",
    "5) Then, we engineered a new feature called ‘Price per Area’, which is the ratio of the ‘SalePrice’ feature to the ‘Lot Area’ feature for each of the properties.\n",
    "\n",
    "6) we then analysed the ‘Price per Area’ feature using its histogram. we observed that the price per unit area of most of the houses was approximately 20 dollar per square foot.\n",
    "\n",
    "7) Then, we analysed the ‘Overall Qual’ feature using a count plot and observed that most houses had an overall quality of 5, 6 or 7.\n",
    "\n",
    "8) Next, we analysed the ‘Kitchen Qual’ and the ‘Exter Qual’ features using count plots and saw that both kitchen quality and exterior material quality of most houses were typical or good.\n",
    "\n",
    "\n",
    "##### Stage 3: \n",
    "\n",
    "1) Based on our analysis of the data and its features, we decided to subset the original data frame based on certain conditions. \n",
    "\n",
    "2) These conditions are: \n",
    "    - the year in which a house was built should be greater than the median of all the ‘Year Built’ values;\n",
    "    - the price per unit area for a house should be lower than the median of the ‘Price per Area’ values; \n",
    "    - the overall quality of a house should be greater than mode of the ‘Overall Qual’ values; \n",
    "    - and the kitchen quality and the exterior material quality of a house should not be ‘Po’ (Poor) or ‘Fa’ (Fair).\n",
    "\n",
    "3) After subsetting the data frame based on these conditions, it was narrowed down to 112 houses. This is not even 5% of the original data set, but this is the type of rigour expected by the investor.\n",
    "\n",
    "\n",
    "##### Stage 4: \n",
    "\n",
    "1) we then took a look at the new data frame and checked the distribution of the number of viable houses per neighbourhood using a count plot.\n",
    "\n",
    "2) we saw that ‘CollgCr’ is still one of the contenders, but ‘NAmes’ is not present anymore.\n",
    "\n",
    "3) Then, we calculated the relevant statistics for all the houses for each neighbourhood.\n",
    "\n",
    "4) For this, we used Python’s ‘.groupby()’ method. we calculated the following values for each of the neighbourhoods: number of houses, median ‘Year Built’, mean ‘Overall Qual’, modal ‘Kitchen Qual’, modal ‘Exter Qual’, mean ‘Lot Area’, mean ‘SalePrice’, mean ‘Price per Area’ and the mean absolute deviation about the mean for ‘Price per Area’.\n",
    "\n",
    "5) we then created a new data frame whose rows are neighbourhoods and used the values calculated previously to summarise all of the neighbourhoods.\n",
    "\n",
    "\n",
    "##### Stage 5: \n",
    "\n",
    "1) Then, we observed that there was only one house in some neighbourhoods. \n",
    "\n",
    "2) we removed those entries from the data frame. Next, the neighbourhoods that remain are as follows: ‘Edwards’, ‘StoneBr’, ‘Veenker’, ‘Gilbert’, ‘NoRidge’, ‘CollgCr’, ‘NridgHt’, ‘Somerst’, ‘Timber’ and ‘SawyerW’.\n",
    "\n",
    "\n",
    "##### Stage 6: \n",
    "\n",
    "1) we then subsetted the data frame to contain only those neighbourhoods that have a lower mean ‘Price per Area’ than the median of the ‘Mean Price per Area’ feature and a lower mean absolute deviation in the ‘Price per Area’ feature than the median of the ‘Deviation in Price per Area’ feature.\n",
    "\n",
    "2) Result; Three neighbourhoods were narrowed down according to the criteria such as maximum quality and quantity with the least price as well as the least variations of prices, as we know, this is the type of rigour expected by the investor.\n",
    "##### 1) Gilbert\n",
    "##### 2) NridgHt\n",
    "##### 3) Somerst"
   ]
  },
  {
   "cell_type": "markdown",
   "metadata": {},
   "source": [
    "-------------------"
   ]
  },
  {
   "cell_type": "markdown",
   "metadata": {},
   "source": [
    "------------- END --------------"
   ]
  }
 ],
 "metadata": {
  "kernelspec": {
   "display_name": "Python 3",
   "language": "python",
   "name": "python3"
  },
  "language_info": {
   "codemirror_mode": {
    "name": "ipython",
    "version": 3
   },
   "file_extension": ".py",
   "mimetype": "text/x-python",
   "name": "python",
   "nbconvert_exporter": "python",
   "pygments_lexer": "ipython3",
   "version": "3.8.5"
  }
 },
 "nbformat": 4,
 "nbformat_minor": 5
}
