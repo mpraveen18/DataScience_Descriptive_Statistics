{
 "cells": [
  {
   "cell_type": "markdown",
   "metadata": {},
   "source": [
    "# Introduction"
   ]
  },
  {
   "cell_type": "code",
   "execution_count": 1,
   "metadata": {},
   "outputs": [],
   "source": [
    "\n",
    "# This Jupyter notebook is part of your learning experience in the study of quantiles\n",
    "# You will work with a simple data set that contains the scores of job applicants in an entrance test\n",
    "\n",
    "# In this exercise, you will perform the following tasks:\n",
    "# 1 - Load and study the data\n",
    "# 2 - View the distributions of the various features in the data set and break them into categories using quantiles\n",
    "# 3 - Subset the data using the quantiles decided to separate the applicants into three categories"
   ]
  },
  {
   "cell_type": "markdown",
   "metadata": {},
   "source": [
    "---------------------------"
   ]
  },
  {
   "cell_type": "markdown",
   "metadata": {},
   "source": [
    "# Task 1 - Load and study the data"
   ]
  },
  {
   "cell_type": "code",
   "execution_count": 2,
   "metadata": {},
   "outputs": [],
   "source": [
    "\n",
    "# Load the data and study its features such as:\n",
    "# The number of applicants\n",
    "# The number of features\n",
    "# The types of features"
   ]
  },
  {
   "cell_type": "code",
   "execution_count": 3,
   "metadata": {},
   "outputs": [],
   "source": [
    "# Load \"numpy\" and \"pandas\" for manipulating numbers and data frames\n",
    "# Load \"matplotlib.pyplot\" and \"seaborn\" for data visualisation\n",
    "import numpy as np\n",
    "import pandas as pd\n",
    "import matplotlib.pyplot as plt\n",
    "import seaborn as sns"
   ]
  },
  {
   "cell_type": "code",
   "execution_count": 4,
   "metadata": {},
   "outputs": [],
   "source": [
    "# Read in the \"Interview_First_Stage_Exam.csv\" file as a Pandas Data Frame\n",
    "# Note: Make sure the code and the data are in the same folder or specify the appropriate path\n",
    "df = pd.read_csv('Interview_First_Stage_Exam.csv', index_col = 0)"
   ]
  },
  {
   "cell_type": "code",
   "execution_count": 5,
   "metadata": {},
   "outputs": [
    {
     "data": {
      "text/html": [
       "<div>\n",
       "<style scoped>\n",
       "    .dataframe tbody tr th:only-of-type {\n",
       "        vertical-align: middle;\n",
       "    }\n",
       "\n",
       "    .dataframe tbody tr th {\n",
       "        vertical-align: top;\n",
       "    }\n",
       "\n",
       "    .dataframe thead th {\n",
       "        text-align: right;\n",
       "    }\n",
       "</style>\n",
       "<table border=\"1\" class=\"dataframe\">\n",
       "  <thead>\n",
       "    <tr style=\"text-align: right;\">\n",
       "      <th></th>\n",
       "      <th>Name</th>\n",
       "      <th>English</th>\n",
       "      <th>Mathematics</th>\n",
       "      <th>Programming</th>\n",
       "    </tr>\n",
       "    <tr>\n",
       "      <th>AID</th>\n",
       "      <th></th>\n",
       "      <th></th>\n",
       "      <th></th>\n",
       "      <th></th>\n",
       "    </tr>\n",
       "  </thead>\n",
       "  <tbody>\n",
       "    <tr>\n",
       "      <th>2021001</th>\n",
       "      <td>Anirudh</td>\n",
       "      <td>77</td>\n",
       "      <td>91</td>\n",
       "      <td>85</td>\n",
       "    </tr>\n",
       "    <tr>\n",
       "      <th>2021002</th>\n",
       "      <td>Kamala</td>\n",
       "      <td>73</td>\n",
       "      <td>74</td>\n",
       "      <td>80</td>\n",
       "    </tr>\n",
       "    <tr>\n",
       "      <th>2021003</th>\n",
       "      <td>Pramod</td>\n",
       "      <td>45</td>\n",
       "      <td>43</td>\n",
       "      <td>55</td>\n",
       "    </tr>\n",
       "    <tr>\n",
       "      <th>2021004</th>\n",
       "      <td>Alisha</td>\n",
       "      <td>65</td>\n",
       "      <td>29</td>\n",
       "      <td>63</td>\n",
       "    </tr>\n",
       "    <tr>\n",
       "      <th>2021005</th>\n",
       "      <td>Taufeeq</td>\n",
       "      <td>81</td>\n",
       "      <td>32</td>\n",
       "      <td>76</td>\n",
       "    </tr>\n",
       "  </tbody>\n",
       "</table>\n",
       "</div>"
      ],
      "text/plain": [
       "            Name  English  Mathematics  Programming\n",
       "AID                                                \n",
       "2021001  Anirudh       77           91           85\n",
       "2021002   Kamala       73           74           80\n",
       "2021003   Pramod       45           43           55\n",
       "2021004   Alisha       65           29           63\n",
       "2021005  Taufeeq       81           32           76"
      ]
     },
     "execution_count": 5,
     "metadata": {},
     "output_type": "execute_result"
    }
   ],
   "source": [
    "# Take a brief look at the data using \".head()\"\n",
    "df.head()"
   ]
  },
  {
   "cell_type": "code",
   "execution_count": 6,
   "metadata": {},
   "outputs": [
    {
     "name": "stdout",
     "output_type": "stream",
     "text": [
      "The \"Interview_First_Stage_Exam.csv\" data is a completely fabricated data set for use only on the upGrad platform.\n",
      "\n",
      "Any resemblance to entities past, present or future is merely a coincidence.\n",
      "\n",
      "Feature Description:\n",
      "AID = unique whole number assigned to a job applicant for the purpose of identification\n",
      "Name = first name of the applicant\n",
      "English = marks obtained out of 100 in the English test\n",
      "Mathematics = marks obtained out of 100 in the mathematics test\n",
      "Pogramming = marks obtained out of 100 in the programming test\n"
     ]
    }
   ],
   "source": [
    "# Study the description of the data\n",
    "# Note: Make sure the code and the data description are in the same folder or specify the appropriate path\n",
    "with open('Measures_position_Attribute.txt', 'r') as f:\n",
    "    print(f.read())"
   ]
  },
  {
   "cell_type": "code",
   "execution_count": 7,
   "metadata": {},
   "outputs": [
    {
     "data": {
      "text/plain": [
       "(50, 4)"
      ]
     },
     "execution_count": 7,
     "metadata": {},
     "output_type": "execute_result"
    }
   ],
   "source": [
    "# Get the dimensions of the data frame using \".shape\"\n",
    "df.shape"
   ]
  },
  {
   "cell_type": "code",
   "execution_count": 8,
   "metadata": {},
   "outputs": [
    {
     "data": {
      "text/plain": [
       "Int64Index([2021001, 2021002, 2021003, 2021004, 2021005, 2021006, 2021007,\n",
       "            2021008, 2021009, 2021010, 2021011, 2021012, 2021013, 2021014,\n",
       "            2021015, 2021016, 2021017, 2021018, 2021019, 2021020, 2021021,\n",
       "            2021022, 2021023, 2021024, 2021025, 2021026, 2021027, 2021028,\n",
       "            2021029, 2021030, 2021031, 2021032, 2021033, 2021034, 2021035,\n",
       "            2021036, 2021037, 2021038, 2021039, 2021040, 2021041, 2021042,\n",
       "            2021043, 2021044, 2021045, 2021046, 2021047, 2021048, 2021049,\n",
       "            2021050],\n",
       "           dtype='int64', name='AID')"
      ]
     },
     "execution_count": 8,
     "metadata": {},
     "output_type": "execute_result"
    }
   ],
   "source": [
    "# Get the row names of the data frame using \".index\"\n",
    "df.index"
   ]
  },
  {
   "cell_type": "code",
   "execution_count": 9,
   "metadata": {},
   "outputs": [
    {
     "data": {
      "text/plain": [
       "Index(['Name', 'English', 'Mathematics', 'Programming'], dtype='object')"
      ]
     },
     "execution_count": 9,
     "metadata": {},
     "output_type": "execute_result"
    }
   ],
   "source": [
    "# Get the column names of the data frame using \".columns\"\n",
    "df.columns"
   ]
  },
  {
   "cell_type": "code",
   "execution_count": 10,
   "metadata": {},
   "outputs": [
    {
     "name": "stdout",
     "output_type": "stream",
     "text": [
      "<class 'pandas.core.frame.DataFrame'>\n",
      "Int64Index: 50 entries, 2021001 to 2021050\n",
      "Data columns (total 4 columns):\n",
      " #   Column       Non-Null Count  Dtype \n",
      "---  ------       --------------  ----- \n",
      " 0   Name         50 non-null     object\n",
      " 1   English      50 non-null     int64 \n",
      " 2   Mathematics  50 non-null     int64 \n",
      " 3   Programming  50 non-null     int64 \n",
      "dtypes: int64(3), object(1)\n",
      "memory usage: 2.0+ KB\n"
     ]
    }
   ],
   "source": [
    "# Look at basic information about the data frame using \".info()\"\n",
    "df.info()"
   ]
  },
  {
   "cell_type": "code",
   "execution_count": 11,
   "metadata": {},
   "outputs": [],
   "source": [
    "# Observations\n",
    "\n",
    "# There are 50 rows and 4 columns in the data\n",
    "# Each row contains the marks obtained out of 100 by a specific applicant in English, Mathematics and Programming\n",
    "\n",
    "# The features in the data set are:\n",
    "# The names of the applicants\n",
    "# Their marks obtained out of 100 in English\n",
    "# Their marks obtained out of 100 in mathematics\n",
    "# Their marks obtained out of 100 in programming"
   ]
  },
  {
   "cell_type": "markdown",
   "metadata": {},
   "source": [
    "----------------------------"
   ]
  },
  {
   "cell_type": "markdown",
   "metadata": {},
   "source": [
    "# Task 2 - View the distributions of the various features in the data set and break them into categories using quantiles"
   ]
  },
  {
   "cell_type": "code",
   "execution_count": 12,
   "metadata": {},
   "outputs": [],
   "source": [
    "\n",
    "# We will now look at the distributions of the marks obtained by the applicants in the three subjects\n",
    "# We will also use quantiles to divide the distribution into groups"
   ]
  },
  {
   "cell_type": "code",
   "execution_count": 13,
   "metadata": {},
   "outputs": [
    {
     "data": {
      "text/plain": [
       "58.5"
      ]
     },
     "execution_count": 13,
     "metadata": {},
     "output_type": "execute_result"
    }
   ],
   "source": [
    "# Calculate the median \"English\" feature using \".median()\"\n",
    "df['English'].median()"
   ]
  },
  {
   "cell_type": "code",
   "execution_count": 14,
   "metadata": {},
   "outputs": [
    {
     "data": {
      "image/png": "[encoded data removed]",
      "text/plain": [
       "<Figure size 600x300 with 1 Axes>"
      ]
     },
     "metadata": {
      "needs_background": "light"
     },
     "output_type": "display_data"
    }
   ],
   "source": [
    "# Create a histogram of the \"English\" feature and also show the median\n",
    "plt.figure(figsize = (6, 3), dpi= 100)\n",
    "sns.histplot(data = df, x = 'English', color = 'orange', edgecolor = 'linen', alpha = 0.5, bins = 10)\n",
    "plt.vlines(x = df['English'].median(), ymin = 0, ymax = 8, colors = 'red')\n",
    "plt.title('Histogram of Marks Obtained in English')\n",
    "plt.xlabel('Marks Obtained in English out of 100')\n",
    "plt.ylabel('Count');"
   ]
  },
  {
   "cell_type": "code",
   "execution_count": 15,
   "metadata": {},
   "outputs": [
    {
     "data": {
      "text/plain": [
       "58.5"
      ]
     },
     "execution_count": 15,
     "metadata": {},
     "output_type": "execute_result"
    }
   ],
   "source": [
    "# Calculate the median \"English\" feature using \".quantile()\"\n",
    "# Note: The median is the 0.5th quantile, so pass in 0.5 as a parameter to the \".quantile()\" function\n",
    "df['English'].quantile(0.5)"
   ]
  },
  {
   "cell_type": "code",
   "execution_count": 16,
   "metadata": {},
   "outputs": [
    {
     "data": {
      "text/plain": [
       "0.25    42.5\n",
       "0.50    58.5\n",
       "0.75    76.5\n",
       "Name: English, dtype: float64"
      ]
     },
     "execution_count": 16,
     "metadata": {},
     "output_type": "execute_result"
    }
   ],
   "source": [
    "# Calculate the quartiles of the \"English\" feature using \".quantile()\"\n",
    "# Note: The three quartiles are equal to the 0.25th, 0.5th and 0.75th quantiles\n",
    "# Note: You can pass a list of numbers to the \".quantile()\" function\n",
    "df['English'].quantile([0.25, 0.5, 0.75])"
   ]
  },
  {
   "cell_type": "code",
   "execution_count": 17,
   "metadata": {},
   "outputs": [
    {
     "data": {
      "image/png": "[encoded data removed]",
      "text/plain": [
       "<Figure size 600x300 with 1 Axes>"
      ]
     },
     "metadata": {
      "needs_background": "light"
     },
     "output_type": "display_data"
    }
   ],
   "source": [
    "# Create a histogram of the \"English\" feature and also show the quartiles\n",
    "plt.figure(figsize = (6, 3), dpi= 100)\n",
    "sns.histplot(data = df, x = 'English', color = 'orange', edgecolor = 'linen', alpha = 0.5, bins = 10)\n",
    "plt.vlines(x = df['English'].quantile([0.25, 0.5, 0.75]), ymin = 0, ymax = 8, colors = 'red')\n",
    "plt.title('Histogram of Marks Obtained in English')\n",
    "plt.xlabel('Marks Obtained in English out of 100')\n",
    "plt.ylabel('Count');"
   ]
  },
  {
   "cell_type": "code",
   "execution_count": 18,
   "metadata": {},
   "outputs": [
    {
     "data": {
      "image/png": "[encoded data removed]",
      "text/plain": [
       "<Figure size 600x300 with 1 Axes>"
      ]
     },
     "metadata": {
      "needs_background": "light"
     },
     "output_type": "display_data"
    }
   ],
   "source": [
    "# Create a box plot of the \"English\" feature\n",
    "plt.figure(figsize = (6, 3), dpi= 100)\n",
    "sns.boxplot(data = df, x = 'English', color = 'linen')\n",
    "plt.title('Box Plot of Marks Obtained in English')\n",
    "plt.xlabel('Marks Obtained in English out of 100');"
   ]
  },
  {
   "cell_type": "code",
   "execution_count": 19,
   "metadata": {},
   "outputs": [
    {
     "data": {
      "text/plain": [
       "0.25    37.25\n",
       "0.50    52.00\n",
       "0.75    77.25\n",
       "Name: Mathematics, dtype: float64"
      ]
     },
     "execution_count": 19,
     "metadata": {},
     "output_type": "execute_result"
    }
   ],
   "source": [
    "# Calculate the quartiles of the \"Mathematics\" feature using \".quantile()\"\n",
    "# Note: The three quartiles are equal to the 0.25th, 0.5th and 0.75th quantiles\n",
    "# Note: You can pass a list of numbers to the \".quantile()\" function\n",
    "df['Mathematics'].quantile([0.25, 0.5, 0.75])"
   ]
  },
  {
   "cell_type": "code",
   "execution_count": 20,
   "metadata": {},
   "outputs": [
    {
     "data": {
      "image/png": "[encoded data removed]",
      "text/plain": [
       "<Figure size 600x300 with 1 Axes>"
      ]
     },
     "metadata": {
      "needs_background": "light"
     },
     "output_type": "display_data"
    }
   ],
   "source": [
    "# Create a histogram of the \"Mathematics\" feature and also show the quartiles\n",
    "plt.figure(figsize = (6, 3), dpi= 100)\n",
    "sns.histplot(data = df, x = 'Mathematics', color = 'orange', edgecolor = 'linen', alpha = 0.5, bins = 10)\n",
    "plt.vlines(x = df['Mathematics'].quantile([0.25, 0.5, 0.75]), ymin = 0, ymax = 8, colors = 'red')\n",
    "plt.title('Histogram of Marks Obtained in Mathematics')\n",
    "plt.xlabel('Marks Obtained in Mathematics out of 100')\n",
    "plt.ylabel('Count');"
   ]
  },
  {
   "cell_type": "code",
   "execution_count": 21,
   "metadata": {},
   "outputs": [
    {
     "data": {
      "image/png": "[encoded data removed]",
      "text/plain": [
       "<Figure size 600x300 with 1 Axes>"
      ]
     },
     "metadata": {
      "needs_background": "light"
     },
     "output_type": "display_data"
    }
   ],
   "source": [
    "# Create a box plot of the \"Mathematics\" feature\n",
    "plt.figure(figsize = (6, 3), dpi= 100)\n",
    "sns.boxplot(data = df, x = 'Mathematics', color = 'linen')\n",
    "plt.title('Box Plot of Marks Obtained in Mathematics')\n",
    "plt.xlabel('Marks Obtained in Mathematics out of 100');"
   ]
  },
  {
   "cell_type": "code",
   "execution_count": 22,
   "metadata": {},
   "outputs": [
    {
     "data": {
      "text/plain": [
       "0.25    49.0\n",
       "0.50    59.0\n",
       "0.75    75.0\n",
       "Name: Programming, dtype: float64"
      ]
     },
     "execution_count": 22,
     "metadata": {},
     "output_type": "execute_result"
    }
   ],
   "source": [
    "# Calculate the quartiles of the \"Programming\" feature using \".quantile()\"\n",
    "# Note: The three quartiles are equal to the 0.25th, 0.5th and 0.75th quantiles\n",
    "# Note: You can pass a list of numbers to the \".quantile()\" function\n",
    "df['Programming'].quantile([0.25, 0.5, 0.75])"
   ]
  },
  {
   "cell_type": "code",
   "execution_count": 23,
   "metadata": {},
   "outputs": [
    {
     "data": {
      "image/png": "[encoded data removed]",
      "text/plain": [
       "<Figure size 600x300 with 1 Axes>"
      ]
     },
     "metadata": {
      "needs_background": "light"
     },
     "output_type": "display_data"
    }
   ],
   "source": [
    "# Create a histogram of the \"Programming\" feature and also show the quartiles\n",
    "plt.figure(figsize = (6, 3), dpi= 100)\n",
    "sns.histplot(data = df, x = 'Programming', color = 'orange', edgecolor = 'linen', alpha = 0.5, bins = 10)\n",
    "plt.vlines(x = df['Programming'].quantile([0.25, 0.5, 0.75]), ymin = 0, ymax = 10, colors = 'red')\n",
    "plt.title('Histogram of Marks Obtained in Programming')\n",
    "plt.xlabel('Marks Obtained in Programming out of 100')\n",
    "plt.ylabel('Count');"
   ]
  },
  {
   "cell_type": "code",
   "execution_count": 24,
   "metadata": {},
   "outputs": [
    {
     "data": {
      "image/png": "[encoded data removed]",
      "text/plain": [
       "<Figure size 600x300 with 1 Axes>"
      ]
     },
     "metadata": {
      "needs_background": "light"
     },
     "output_type": "display_data"
    }
   ],
   "source": [
    "# Create a box plot of the \"Programming\" feature\n",
    "plt.figure(figsize = (6, 3), dpi= 100)\n",
    "sns.boxplot(data = df, x = 'Programming', color = 'linen')\n",
    "plt.title('Box Plot of Marks Obtained in Programming')\n",
    "plt.xlabel('Marks Obtained in Programming out of 100');"
   ]
  },
  {
   "cell_type": "code",
   "execution_count": 25,
   "metadata": {},
   "outputs": [
    {
     "data": {
      "image/png": "[encoded data removed]",
      "text/plain": [
       "<Figure size 864x432 with 6 Axes>"
      ]
     },
     "metadata": {
      "needs_background": "light"
     },
     "output_type": "display_data"
    }
   ],
   "source": [
    "# Create a figure with all the relevant plots\n",
    "plt.figure(figsize = (12, 6))\n",
    "\n",
    "plt.subplot(3, 2, 1)\n",
    "sns.histplot(data = df, x = 'English', color = 'orange', edgecolor = 'linen', alpha = 0.5, bins = 10)\n",
    "plt.vlines(x = df['English'].quantile([0.25, 0.5, 0.75]), ymin = 0, ymax = 8, colors = 'red')\n",
    "plt.title('English')\n",
    "plt.xlabel('')\n",
    "plt.ylabel('')\n",
    "\n",
    "plt.subplot(3, 2, 2)\n",
    "sns.boxplot(data = df, x = 'English', color = 'linen')\n",
    "plt.title('English')\n",
    "plt.xlabel('')\n",
    "\n",
    "plt.subplot(3, 2, 3)\n",
    "sns.histplot(data = df, x = 'Mathematics', color = 'orange', edgecolor = 'linen', alpha = 0.5, bins = 10)\n",
    "plt.vlines(x = df['Mathematics'].quantile([0.25, 0.5, 0.75]), ymin = 0, ymax = 8, colors = 'red')\n",
    "plt.title('Mathematics')\n",
    "plt.xlabel('')\n",
    "plt.ylabel('')\n",
    "\n",
    "plt.subplot(3, 2, 4)\n",
    "sns.boxplot(data = df, x = 'Mathematics', color = 'linen')\n",
    "plt.title('Mathematics')\n",
    "plt.xlabel('')\n",
    "\n",
    "plt.subplot(3, 2, 5)\n",
    "sns.histplot(data = df, x = 'Programming', color = 'orange', edgecolor = 'linen', alpha = 0.5, bins = 10)\n",
    "plt.vlines(x = df['Programming'].quantile([0.25, 0.5, 0.75]), ymin = 0, ymax = 10, colors = 'red')\n",
    "plt.title('Programming')\n",
    "plt.xlabel('')\n",
    "plt.ylabel('')\n",
    "\n",
    "plt.subplot(3, 2, 6)\n",
    "sns.boxplot(data = df, x = 'Programming', color = 'linen')\n",
    "plt.title('Programming')\n",
    "plt.xlabel('')\n",
    "\n",
    "plt.tight_layout();"
   ]
  },
  {
   "cell_type": "code",
   "execution_count": 26,
   "metadata": {},
   "outputs": [],
   "source": [
    "# Observations\n",
    "\n",
    "# By observing the distance between the lower and upper quartiles of a distribution, we get a sense of its range\n",
    "# The spread of marks in the mathematics test is the greatest and it is least for the programming test\n",
    "# The lower and upper quartiles for English are 42.5 and 76.5\n",
    "# The lower and upper quartiles for mathematics are 37.25 and 77.25\n",
    "# The lower and upper quartiles for programming are 49 and 75"
   ]
  },
  {
   "cell_type": "markdown",
   "metadata": {},
   "source": [
    "-------------------------"
   ]
  },
  {
   "cell_type": "markdown",
   "metadata": {},
   "source": [
    "# Task 3 - Subset the data using the quantiles decided to separate the applicants into three categories"
   ]
  },
  {
   "cell_type": "code",
   "execution_count": 27,
   "metadata": {},
   "outputs": [],
   "source": [
    "\n",
    "# We will now use the lower and upper quartiles as thresholds for the interview process\n",
    "# We will store the lower and upper cut-off marks in a data frame"
   ]
  },
  {
   "cell_type": "code",
   "execution_count": 28,
   "metadata": {},
   "outputs": [],
   "source": [
    "# Create a Pandas Series called \"lower\" to store the lower cut-off marks for all the subjects\n",
    "# Note: Set the \"index\" parameter of the series to the list of the column names of the data frame except the first column\n",
    "# Note: The \"data\" parameter of the series needs to be a list of the relevant values\n",
    "lower = pd.Series(index = df.columns[1:],\n",
    "                  data = [df['English'].quantile(0.25), df['Mathematics'].quantile(0.25), df['Programming'].quantile(0.25)])"
   ]
  },
  {
   "cell_type": "code",
   "execution_count": 29,
   "metadata": {},
   "outputs": [
    {
     "data": {
      "text/plain": [
       "English        42.50\n",
       "Mathematics    37.25\n",
       "Programming    49.00\n",
       "dtype: float64"
      ]
     },
     "execution_count": 29,
     "metadata": {},
     "output_type": "execute_result"
    }
   ],
   "source": [
    "# Print the \"lower\" series\n",
    "lower"
   ]
  },
  {
   "cell_type": "code",
   "execution_count": 30,
   "metadata": {},
   "outputs": [],
   "source": [
    "# Create a Pandas Series called \"upper\" to store the upper cut-off marks for all the subjects\n",
    "# Note: Set the \"index\" parameter of the series to the list of the column names of the data frame except the first column\n",
    "# Note: The \"data\" parameter of the series needs to be a list of the relevant values\n",
    "upper = pd.Series(index = df.columns[1:],\n",
    "                  data = [df['English'].quantile(0.75), df['Mathematics'].quantile(0.75), df['Programming'].quantile(0.75)])"
   ]
  },
  {
   "cell_type": "code",
   "execution_count": 31,
   "metadata": {},
   "outputs": [
    {
     "data": {
      "text/plain": [
       "English        76.50\n",
       "Mathematics    77.25\n",
       "Programming    75.00\n",
       "dtype: float64"
      ]
     },
     "execution_count": 31,
     "metadata": {},
     "output_type": "execute_result"
    }
   ],
   "source": [
    "# Print the \"upper\" series\n",
    "upper"
   ]
  },
  {
   "cell_type": "code",
   "execution_count": 32,
   "metadata": {},
   "outputs": [],
   "source": [
    "# Combine the \"lower\" and \"upper\" series into a single data frame called \"cutoff\"\n",
    "# Note: Set the \"index\" parameter of the data frame to the list of the column names of the data frame except the first column\n",
    "# Note: The \"data\" parameter must be set in the form of a Python Dictionary using the series \"lower\" and \"upper\"\n",
    "cutoff = pd.DataFrame(index = df.columns[1:], data = {'Lower' : lower, 'Upper' : upper})"
   ]
  },
  {
   "cell_type": "code",
   "execution_count": 33,
   "metadata": {},
   "outputs": [
    {
     "data": {
      "text/html": [
       "<div>\n",
       "<style scoped>\n",
       "    .dataframe tbody tr th:only-of-type {\n",
       "        vertical-align: middle;\n",
       "    }\n",
       "\n",
       "    .dataframe tbody tr th {\n",
       "        vertical-align: top;\n",
       "    }\n",
       "\n",
       "    .dataframe thead th {\n",
       "        text-align: right;\n",
       "    }\n",
       "</style>\n",
       "<table border=\"1\" class=\"dataframe\">\n",
       "  <thead>\n",
       "    <tr style=\"text-align: right;\">\n",
       "      <th></th>\n",
       "      <th>Lower</th>\n",
       "      <th>Upper</th>\n",
       "    </tr>\n",
       "  </thead>\n",
       "  <tbody>\n",
       "    <tr>\n",
       "      <th>English</th>\n",
       "      <td>42.50</td>\n",
       "      <td>76.50</td>\n",
       "    </tr>\n",
       "    <tr>\n",
       "      <th>Mathematics</th>\n",
       "      <td>37.25</td>\n",
       "      <td>77.25</td>\n",
       "    </tr>\n",
       "    <tr>\n",
       "      <th>Programming</th>\n",
       "      <td>49.00</td>\n",
       "      <td>75.00</td>\n",
       "    </tr>\n",
       "  </tbody>\n",
       "</table>\n",
       "</div>"
      ],
      "text/plain": [
       "             Lower  Upper\n",
       "English      42.50  76.50\n",
       "Mathematics  37.25  77.25\n",
       "Programming  49.00  75.00"
      ]
     },
     "execution_count": 33,
     "metadata": {},
     "output_type": "execute_result"
    }
   ],
   "source": [
    "# Print the \"cutoff\" data frame\n",
    "cutoff"
   ]
  },
  {
   "cell_type": "code",
   "execution_count": 34,
   "metadata": {},
   "outputs": [],
   "source": [
    "# Use the upper cut-off values to get the details of applicants who will directly go to the final stage of the interview\n",
    "# Note: A candidate must have scored greater than or equal to the upper cut-off marks for each of the subjects\n",
    "# Store the resulting subsetted data frame as \"final\"\n",
    "final = df[(df['English'] >= 76.5) & (df['Mathematics'] >= 77.25) & (df['Programming'] >= 75)]"
   ]
  },
  {
   "cell_type": "code",
   "execution_count": 35,
   "metadata": {},
   "outputs": [
    {
     "data": {
      "text/plain": [
       "AID\n",
       "2021001    Anirudh\n",
       "2021022       John\n",
       "2021028    Gayatri\n",
       "2021043       Gita\n",
       "Name: Name, dtype: object"
      ]
     },
     "execution_count": 35,
     "metadata": {},
     "output_type": "execute_result"
    }
   ],
   "source": [
    "# Print the \"Name\" feature of the \"final\" data frame\n",
    "# These are the specifics of the candidates who will directly proceed to the final stage of the interview\n",
    "final['Name']"
   ]
  },
  {
   "cell_type": "code",
   "execution_count": 36,
   "metadata": {},
   "outputs": [],
   "source": [
    "# Use the lower and upper cut-off values to get the details of applicants who will go to the second stage of the interview\n",
    "# Note: A candidate must have scored greater than or equal to the lower cut-off marks for each of the subjects\n",
    "# Note: The candidate must have scored less than the upper cut-off marks for each of the subjects\n",
    "# Store the resulting subsetted data frame as \"second\"\n",
    "second = df[(df['English'] >= 42.5) & (df['English'] < 76.5) &\n",
    "            (df['Mathematics'] >= 37.25) & (df['Mathematics'] < 77.25) &\n",
    "            (df['Programming'] >= 49) & (df['Programming'] < 75)]"
   ]
  },
  {
   "cell_type": "code",
   "execution_count": 37,
   "metadata": {},
   "outputs": [
    {
     "data": {
      "text/plain": [
       "AID\n",
       "2021003      Pramod\n",
       "2021010      Ramesh\n",
       "2021012       Jacob\n",
       "2021023     Hussain\n",
       "2021026        Roma\n",
       "2021039    Abdullah\n",
       "2021041        Eric\n",
       "2021050      Suresh\n",
       "Name: Name, dtype: object"
      ]
     },
     "execution_count": 37,
     "metadata": {},
     "output_type": "execute_result"
    }
   ],
   "source": [
    "# Print the \"Name\" feature of the \"second\" data frame\n",
    "# These are the specifics of the candidates who will proceed to the second stage of the interview\n",
    "second['Name']"
   ]
  },
  {
   "cell_type": "code",
   "execution_count": 38,
   "metadata": {},
   "outputs": [],
   "source": [
    "# Use the lower cut-off values to get the details of applicants who will be rejected this time and need to apply again\n",
    "# Note: A candidate must have scored less than the upper cut-off marks for each of the subjects\n",
    "# Store the resulting subsetted data frame as \"reject\"\n",
    "reject = df[(df['English'] < 42.5) & (df['Mathematics'] < 37.25) & (df['Programming'] < 49)]"
   ]
  },
  {
   "cell_type": "code",
   "execution_count": 39,
   "metadata": {},
   "outputs": [
    {
     "data": {
      "text/plain": [
       "AID\n",
       "2021030    Chandra\n",
       "2021037    Timothy\n",
       "2021045       Rose\n",
       "Name: Name, dtype: object"
      ]
     },
     "execution_count": 39,
     "metadata": {},
     "output_type": "execute_result"
    }
   ],
   "source": [
    "# Print the \"Name\" feature of the \"reject\" data frame\n",
    "# These are the specifics of the candidates whol will need to apply again another time\n",
    "reject['Name']"
   ]
  },
  {
   "cell_type": "code",
   "execution_count": 40,
   "metadata": {},
   "outputs": [],
   "source": [
    "# Observations\n",
    "\n",
    "# We can derive quantile values from a given distribution\n",
    "# The quantile values are wholly dependent on the given distribution\n",
    "# The quartiles help us divide the distributions into four equal parts\n",
    "# We can use the lower and upper quartiles as thresholds for the interview process"
   ]
  },
  {
   "cell_type": "markdown",
   "metadata": {},
   "source": [
    "-------------------------------"
   ]
  },
  {
   "cell_type": "markdown",
   "metadata": {},
   "source": [
    "# Conclusions"
   ]
  },
  {
   "cell_type": "code",
   "execution_count": 41,
   "metadata": {},
   "outputs": [],
   "source": [
    "\n",
    "# From the given data, we can use simple visualisations to get a sense of how data are distributed\n",
    "# We can use various quantile measures to break the distributions into equal parts\n",
    "# We can use the first and the third quartiles as lower and upper cut-offs for the interview process"
   ]
  },
  {
   "cell_type": "markdown",
   "metadata": {},
   "source": [
    "---------------------\n"
   ]
  },
  {
   "cell_type": "code",
   "execution_count": 42,
   "metadata": {},
   "outputs": [
    {
     "data": {
      "text/html": [
       "<div>\n",
       "<style scoped>\n",
       "    .dataframe tbody tr th:only-of-type {\n",
       "        vertical-align: middle;\n",
       "    }\n",
       "\n",
       "    .dataframe tbody tr th {\n",
       "        vertical-align: top;\n",
       "    }\n",
       "\n",
       "    .dataframe thead th {\n",
       "        text-align: right;\n",
       "    }\n",
       "</style>\n",
       "<table border=\"1\" class=\"dataframe\">\n",
       "  <thead>\n",
       "    <tr style=\"text-align: right;\">\n",
       "      <th></th>\n",
       "      <th>Name</th>\n",
       "      <th>English</th>\n",
       "      <th>Mathematics</th>\n",
       "      <th>Programming</th>\n",
       "    </tr>\n",
       "    <tr>\n",
       "      <th>AID</th>\n",
       "      <th></th>\n",
       "      <th></th>\n",
       "      <th></th>\n",
       "      <th></th>\n",
       "    </tr>\n",
       "  </thead>\n",
       "  <tbody>\n",
       "    <tr>\n",
       "      <th>2021030</th>\n",
       "      <td>Chandra</td>\n",
       "      <td>40</td>\n",
       "      <td>36</td>\n",
       "      <td>39</td>\n",
       "    </tr>\n",
       "    <tr>\n",
       "      <th>2021037</th>\n",
       "      <td>Timothy</td>\n",
       "      <td>30</td>\n",
       "      <td>37</td>\n",
       "      <td>33</td>\n",
       "    </tr>\n",
       "    <tr>\n",
       "      <th>2021045</th>\n",
       "      <td>Rose</td>\n",
       "      <td>34</td>\n",
       "      <td>30</td>\n",
       "      <td>44</td>\n",
       "    </tr>\n",
       "  </tbody>\n",
       "</table>\n",
       "</div>"
      ],
      "text/plain": [
       "            Name  English  Mathematics  Programming\n",
       "AID                                                \n",
       "2021030  Chandra       40           36           39\n",
       "2021037  Timothy       30           37           33\n",
       "2021045     Rose       34           30           44"
      ]
     },
     "execution_count": 42,
     "metadata": {},
     "output_type": "execute_result"
    }
   ],
   "source": [
    "df[(df['English'] < 42.5) & (df['Mathematics'] < 37.25) & (df['Programming'] < 49)]"
   ]
  },
  {
   "cell_type": "markdown",
   "metadata": {},
   "source": [
    "-----------------------"
   ]
  },
  {
   "cell_type": "markdown",
   "metadata": {},
   "source": [
    "-------------end--------------"
   ]
  }
 ],
 "metadata": {
  "kernelspec": {
   "display_name": "Python 3",
   "language": "python",
   "name": "python3"
  },
  "language_info": {
   "codemirror_mode": {
    "name": "ipython",
    "version": 3
   },
   "file_extension": ".py",
   "mimetype": "text/x-python",
   "name": "python",
   "nbconvert_exporter": "python",
   "pygments_lexer": "ipython3",
   "version": "3.8.5"
  }
 },
 "nbformat": 4,
 "nbformat_minor": 5
}
